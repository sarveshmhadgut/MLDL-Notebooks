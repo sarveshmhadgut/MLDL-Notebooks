{
 "cells": [
  {
   "cell_type": "code",
   "execution_count": null,
   "metadata": {
    "colab": {
     "base_uri": "https://localhost:8080/"
    },
    "executionInfo": {
     "elapsed": 21976,
     "status": "ok",
     "timestamp": 1735796286394,
     "user": {
      "displayName": "Sarvesh Mhadgut",
      "userId": "11273560109942760670"
     },
     "user_tz": -330
    },
    "id": "1a6de690-ca6a-4105-9548-b958ae65b6c7",
    "outputId": "272ac863-4121-4aa9-cbeb-4f502859f567"
   },
   "outputs": [],
   "source": [
    "!pip3 install scikit-learn\n",
    "!pip3 install matplotlib\n",
    "!pip3 install pandas\n",
    "!pip3 install numpy\n"
   ]
  },
  {
   "cell_type": "code",
   "execution_count": null,
   "metadata": {
    "id": "6d2ffe2a-216a-4926-ab4a-1bd03ba193a2"
   },
   "outputs": [],
   "source": [
    "import matplotlib.pyplot as plt\n",
    "import pandas as pd\n",
    "import numpy as np"
   ]
  },
  {
   "cell_type": "code",
   "execution_count": null,
   "metadata": {
    "colab": {
     "base_uri": "https://localhost:8080/",
     "height": 275
    },
    "executionInfo": {
     "elapsed": 724,
     "status": "ok",
     "timestamp": 1735796305872,
     "user": {
      "displayName": "Sarvesh Mhadgut",
      "userId": "11273560109942760670"
     },
     "user_tz": -330
    },
    "id": "3215e693-a4f5-4df1-8c9e-f51903c043f0",
    "outputId": "b02b3054-ab6b-4be7-deca-d5eb3546f590"
   },
   "outputs": [],
   "source": [
    "df = pd.read_csv(\"FuelConsumption.csv\")\n",
    "\n",
    "df.head()"
   ]
  },
  {
   "cell_type": "code",
   "execution_count": null,
   "metadata": {
    "colab": {
     "base_uri": "https://localhost:8080/",
     "height": 328
    },
    "executionInfo": {
     "elapsed": 9,
     "status": "ok",
     "timestamp": 1735796337100,
     "user": {
      "displayName": "Sarvesh Mhadgut",
      "userId": "11273560109942760670"
     },
     "user_tz": -330
    },
    "id": "4ceb1e21-c7be-43a0-809a-4fefce680de5",
    "outputId": "6ea996ed-521c-4642-a73e-98a68a8ee177"
   },
   "outputs": [],
   "source": [
    "cdf = df[\n",
    "    [\n",
    "        \"ENGINESIZE\",\n",
    "        \"CYLINDERS\",\n",
    "        \"FUELCONSUMPTION_CITY\",\n",
    "        \"FUELCONSUMPTION_HWY\",\n",
    "        \"FUELCONSUMPTION_COMB\",\n",
    "        \"CO2EMISSIONS\",\n",
    "    ]\n",
    "]\n",
    "cdf.head(9)"
   ]
  },
  {
   "cell_type": "code",
   "execution_count": null,
   "metadata": {
    "colab": {
     "base_uri": "https://localhost:8080/",
     "height": 449
    },
    "executionInfo": {
     "elapsed": 26,
     "status": "ok",
     "timestamp": 1735796344958,
     "user": {
      "displayName": "Sarvesh Mhadgut",
      "userId": "11273560109942760670"
     },
     "user_tz": -330
    },
    "id": "30d8ed45-d5d9-448d-bc1b-56b79c7c580f",
    "outputId": "d0a8c88a-01b2-4e20-80c9-d3d63555c32f"
   },
   "outputs": [],
   "source": [
    "plt.scatter(cdf.ENGINESIZE, cdf.CO2EMISSIONS, color=\"blue\")\n",
    "plt.xlabel(\"Engine size\")\n",
    "plt.ylabel(\"Emission\")\n",
    "plt.show()"
   ]
  },
  {
   "cell_type": "code",
   "execution_count": null,
   "metadata": {
    "id": "b7af53d7-325d-4ff5-87a1-40a0c160c7f8"
   },
   "outputs": [],
   "source": [
    "msk = np.random.rand(len(df)) < 0.8\n",
    "train = cdf[msk]\n",
    "test = cdf[~msk]"
   ]
  },
  {
   "cell_type": "code",
   "execution_count": null,
   "metadata": {
    "colab": {
     "base_uri": "https://localhost:8080/",
     "height": 449
    },
    "executionInfo": {
     "elapsed": 748,
     "status": "ok",
     "timestamp": 1735796361230,
     "user": {
      "displayName": "Sarvesh Mhadgut",
      "userId": "11273560109942760670"
     },
     "user_tz": -330
    },
    "id": "bf1547af-5ac8-4155-a666-abea0475a856",
    "outputId": "abf2438a-0e96-4295-c5a3-9628e9fb82ca"
   },
   "outputs": [],
   "source": [
    "plt.scatter(train.ENGINESIZE, train.CO2EMISSIONS, color=\"blue\")\n",
    "plt.xlabel(\"Engine size\")\n",
    "plt.ylabel(\"Emission\")\n",
    "plt.show()"
   ]
  },
  {
   "cell_type": "code",
   "execution_count": null,
   "metadata": {
    "colab": {
     "base_uri": "https://localhost:8080/"
    },
    "executionInfo": {
     "elapsed": 1445,
     "status": "ok",
     "timestamp": 1735796373684,
     "user": {
      "displayName": "Sarvesh Mhadgut",
      "userId": "11273560109942760670"
     },
     "user_tz": -330
    },
    "id": "9b0d6a94-e5bd-4029-bf17-1047a1c8a2aa",
    "outputId": "fd908ccc-31c7-42f8-b54c-8c4b59812bda"
   },
   "outputs": [],
   "source": [
    "from sklearn import linear_model\n",
    "\n",
    "regr = linear_model.LinearRegression()\n",
    "x = np.asanyarray(train[[\"ENGINESIZE\", \"CYLINDERS\", \"FUELCONSUMPTION_COMB\"]])\n",
    "y = np.asanyarray(train[[\"CO2EMISSIONS\"]])\n",
    "regr.fit(x, y)\n",
    "print(\"Coefficients: \", regr.coef_)"
   ]
  },
  {
   "cell_type": "code",
   "execution_count": null,
   "metadata": {
    "colab": {
     "base_uri": "https://localhost:8080/"
    },
    "executionInfo": {
     "elapsed": 449,
     "status": "ok",
     "timestamp": 1735796410261,
     "user": {
      "displayName": "Sarvesh Mhadgut",
      "userId": "11273560109942760670"
     },
     "user_tz": -330
    },
    "id": "04e2806d-1f8e-4bda-826e-2277a4250a0c",
    "outputId": "71d29022-9e64-481d-c851-355c39aa075b"
   },
   "outputs": [],
   "source": [
    "y_hat = regr.predict(test[[\"ENGINESIZE\", \"CYLINDERS\", \"FUELCONSUMPTION_COMB\"]])\n",
    "x = np.asanyarray(test[[\"ENGINESIZE\", \"CYLINDERS\", \"FUELCONSUMPTION_COMB\"]])\n",
    "y = np.asanyarray(test[[\"CO2EMISSIONS\"]])\n",
    "print(\"Mean Squared Error (MSE) : %.2f\" % np.mean((y_hat - y) ** 2))\n",
    "\n",
    "print(\"Variance score: %.2f\" % regr.score(x, y))"
   ]
  },
  {
   "cell_type": "code",
   "execution_count": null,
   "metadata": {
    "colab": {
     "base_uri": "https://localhost:8080/"
    },
    "executionInfo": {
     "elapsed": 457,
     "status": "ok",
     "timestamp": 1735797204680,
     "user": {
      "displayName": "Sarvesh Mhadgut",
      "userId": "11273560109942760670"
     },
     "user_tz": -330
    },
    "id": "71c4bf04-914f-4f74-88ba-b66b0384825e",
    "outputId": "cc1b6c49-051a-4151-f2b8-db765474438f"
   },
   "outputs": [],
   "source": [
    "regr = linear_model.LinearRegression()\n",
    "x = np.asanyarray(\n",
    "    train[[\"ENGINESIZE\", \"CYLINDERS\", \"FUELCONSUMPTION_CITY\", \"FUELCONSUMPTION_HWY\"]]\n",
    ")\n",
    "y = np.asanyarray(train[[\"CO2EMISSIONS\"]])\n",
    "regr.fit(x, y)\n",
    "print(\"Coefficients: \", regr.coef_)\n",
    "y_ = regr.predict(\n",
    "    test[[\"ENGINESIZE\", \"CYLINDERS\", \"FUELCONSUMPTION_CITY\", \"FUELCONSUMPTION_HWY\"]]\n",
    ")\n",
    "x = np.asanyarray(\n",
    "    test[[\"ENGINESIZE\", \"CYLINDERS\", \"FUELCONSUMPTION_CITY\", \"FUELCONSUMPTION_HWY\"]]\n",
    ")\n",
    "y = np.asanyarray(test[[\"CO2EMISSIONS\"]])\n",
    "print(\"Residual sum of squares: %.2f\" % np.mean((y_ - y) ** 2))\n",
    "print(\"Variance score: %.2f\" % regr.score(x, y))"
   ]
  },
  {
   "cell_type": "code",
   "execution_count": null,
   "metadata": {
    "colab": {
     "base_uri": "https://localhost:8080/"
    },
    "executionInfo": {
     "elapsed": 21,
     "status": "ok",
     "timestamp": 1735797169268,
     "user": {
      "displayName": "Sarvesh Mhadgut",
      "userId": "11273560109942760670"
     },
     "user_tz": -330
    },
    "id": "6TJBUvWeks4K",
    "outputId": "ec15322b-4614-442c-9baf-c863f73a231e"
   },
   "outputs": [],
   "source": [
    "regr = linear_model.LinearRegression()\n",
    "x = np.asanyarray(\n",
    "    train[[\"ENGINESIZE\", \"CYLINDERS\", \"FUELCONSUMPTION_CITY\", \"FUELCONSUMPTION_HWY\"]]\n",
    ")\n",
    "y = np.asanyarray(train[[\"CO2EMISSIONS\"]])\n",
    "regr.fit(x, y)\n",
    "print(\"Coefficients: \", regr.coef_)\n",
    "y_ = regr.predict(\n",
    "    test[[\"ENGINESIZE\", \"CYLINDERS\", \"FUELCONSUMPTION_CITY\", \"FUELCONSUMPTION_HWY\"]]\n",
    ")\n",
    "x = np.asanyarray(\n",
    "    test[[\"ENGINESIZE\", \"CYLINDERS\", \"FUELCONSUMPTION_CITY\", \"FUELCONSUMPTION_HWY\"]]\n",
    ")\n",
    "y = np.asanyarray(test[[\"CO2EMISSIONS\"]])\n",
    "print(\"Residual sum of squares: %.2f\" % np.mean((y_ - y) ** 2))\n",
    "print(\"Variance score: %.2f\" % regr.score(x, y))"
   ]
  }
 ],
 "metadata": {
  "colab": {
   "provenance": []
  },
  "kernelspec": {
   "display_name": "Python 3",
   "language": "python",
   "name": "python3"
  },
  "language_info": {
   "codemirror_mode": {
    "name": "ipython",
    "version": 3
   },
   "file_extension": ".py",
   "mimetype": "text/x-python",
   "name": "python",
   "nbconvert_exporter": "python",
   "pygments_lexer": "ipython3",
   "version": "3.11.10"
  },
  "prev_pub_hash": "695517f9ff8b501a1dd51484bdda5a1f8f197e15909dc6764ee5f36345dfe783"
 },
 "nbformat": 4,
 "nbformat_minor": 0
}
