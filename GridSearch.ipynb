{
 "cells": [
  {
   "cell_type": "code",
   "execution_count": null,
   "metadata": {
    "executionInfo": {
     "elapsed": 3158,
     "status": "ok",
     "timestamp": 1735971232933,
     "user": {
      "displayName": "Sarvesh Mhadgut",
      "userId": "11273560109942760670"
     },
     "user_tz": -330
    },
    "id": "IvkpMvSB8fKo"
   },
   "outputs": [],
   "source": [
    "import numpy as np\n",
    "import pandas as pd\n",
    "from sklearn.datasets import load_iris\n",
    "from sklearn.model_selection import train_test_split, GridSearchCV\n",
    "from sklearn.svm import SVC\n",
    "from sklearn.metrics import classification_report\n",
    "import warnings\n",
    "\n",
    "warnings.filterwarnings(\"ignore\")"
   ]
  },
  {
   "cell_type": "code",
   "execution_count": null,
   "metadata": {
    "executionInfo": {
     "elapsed": 4,
     "status": "ok",
     "timestamp": 1735971295160,
     "user": {
      "displayName": "Sarvesh Mhadgut",
      "userId": "11273560109942760670"
     },
     "user_tz": -330
    },
    "id": "rh1a00Jc86Mu"
   },
   "outputs": [],
   "source": [
    "iris = load_iris()\n",
    "X = iris.data\n",
    "y = iris.target"
   ]
  },
  {
   "cell_type": "code",
   "execution_count": null,
   "metadata": {
    "executionInfo": {
     "elapsed": 410,
     "status": "ok",
     "timestamp": 1735971298200,
     "user": {
      "displayName": "Sarvesh Mhadgut",
      "userId": "11273560109942760670"
     },
     "user_tz": -330
    },
    "id": "P2TFoUxT8sfH"
   },
   "outputs": [],
   "source": [
    "X_train, X_test, y_train, y_test = train_test_split(\n",
    "    X, y, test_size=0.2, random_state=42\n",
    ")"
   ]
  },
  {
   "cell_type": "code",
   "execution_count": null,
   "metadata": {
    "executionInfo": {
     "elapsed": 536,
     "status": "ok",
     "timestamp": 1735971300792,
     "user": {
      "displayName": "Sarvesh Mhadgut",
      "userId": "11273560109942760670"
     },
     "user_tz": -330
    },
    "id": "dK5ZtTNZ8tHw"
   },
   "outputs": [],
   "source": [
    "param_grid = {\n",
    "    \"C\": [0.1, 1, 10, 100],\n",
    "    \"gamma\": [1, 0.1, 0.01, 0.001],\n",
    "    \"kernel\": [\"linear\", \"rbf\", \"poly\"],\n",
    "}"
   ]
  },
  {
   "cell_type": "code",
   "execution_count": null,
   "metadata": {
    "executionInfo": {
     "elapsed": 893,
     "status": "ok",
     "timestamp": 1735971308542,
     "user": {
      "displayName": "Sarvesh Mhadgut",
      "userId": "11273560109942760670"
     },
     "user_tz": -330
    },
    "id": "zrnopmZx8xuR"
   },
   "outputs": [],
   "source": [
    "svc = SVC()"
   ]
  },
  {
   "cell_type": "code",
   "execution_count": null,
   "metadata": {
    "executionInfo": {
     "elapsed": 4,
     "status": "ok",
     "timestamp": 1735971312634,
     "user": {
      "displayName": "Sarvesh Mhadgut",
      "userId": "11273560109942760670"
     },
     "user_tz": -330
    },
    "id": "Vnu4f24k8yDn"
   },
   "outputs": [],
   "source": [
    "grid_search = GridSearchCV(\n",
    "    estimator=svc, param_grid=param_grid, scoring=\"accuracy\", cv=5, n_jobs=-1, verbose=2\n",
    ")"
   ]
  },
  {
   "cell_type": "code",
   "execution_count": null,
   "metadata": {
    "colab": {
     "base_uri": "https://localhost:8080/",
     "height": 184
    },
    "executionInfo": {
     "elapsed": 3989,
     "status": "ok",
     "timestamp": 1735971337095,
     "user": {
      "displayName": "Sarvesh Mhadgut",
      "userId": "11273560109942760670"
     },
     "user_tz": -330
    },
    "id": "tyEjmr1s9BtO",
    "outputId": "eb7ac9df-57ac-419f-e9b7-ab87b6a7d61f"
   },
   "outputs": [],
   "source": [
    "grid_search.fit(X_train, y_train)"
   ]
  },
  {
   "cell_type": "code",
   "execution_count": null,
   "metadata": {
    "colab": {
     "base_uri": "https://localhost:8080/"
    },
    "executionInfo": {
     "elapsed": 392,
     "status": "ok",
     "timestamp": 1735971343974,
     "user": {
      "displayName": "Sarvesh Mhadgut",
      "userId": "11273560109942760670"
     },
     "user_tz": -330
    },
    "id": "74e6tnPF9CCD",
    "outputId": "57dd3c33-bcbc-43ef-9f8a-b8c58090d7ae"
   },
   "outputs": [],
   "source": [
    "print(\"Best parameters found: \", grid_search.best_params_)\n",
    "print(\"Best estimator: \", grid_search.best_estimator_)"
   ]
  },
  {
   "cell_type": "code",
   "execution_count": null,
   "metadata": {
    "executionInfo": {
     "elapsed": 4,
     "status": "ok",
     "timestamp": 1735971350323,
     "user": {
      "displayName": "Sarvesh Mhadgut",
      "userId": "11273560109942760670"
     },
     "user_tz": -330
    },
    "id": "tzaOGu2X9CUz"
   },
   "outputs": [],
   "source": [
    "y_pred = grid_search.best_estimator_.predict(X_test)"
   ]
  },
  {
   "cell_type": "code",
   "execution_count": null,
   "metadata": {
    "colab": {
     "base_uri": "https://localhost:8080/"
    },
    "executionInfo": {
     "elapsed": 14,
     "status": "ok",
     "timestamp": 1735971359679,
     "user": {
      "displayName": "Sarvesh Mhadgut",
      "userId": "11273560109942760670"
     },
     "user_tz": -330
    },
    "id": "ifstyPg39K-c",
    "outputId": "260ec04a-004b-4679-ae97-ff848d53b36f"
   },
   "outputs": [],
   "source": [
    "print(classification_report(y_test, y_pred))"
   ]
  }
 ],
 "metadata": {
  "colab": {
   "authorship_tag": "ABX9TyOi14rYoSbAY2HurG+k4KA9",
   "provenance": []
  },
  "kernelspec": {
   "display_name": "Python 3",
   "name": "python3"
  },
  "language_info": {
   "name": "python"
  }
 },
 "nbformat": 4,
 "nbformat_minor": 0
}
