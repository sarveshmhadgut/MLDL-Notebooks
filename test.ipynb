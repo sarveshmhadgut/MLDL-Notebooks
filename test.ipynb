{
 "cells": [
  {
   "cell_type": "code",
   "execution_count": null,
   "id": "ea92f3f2",
   "metadata": {},
   "outputs": [],
   "source": [
    "!pip3 install numpy matplotlib pandas scikit-learn opencv-python tensorflow"
   ]
  },
  {
   "cell_type": "code",
   "execution_count": null,
   "id": "064a5ace",
   "metadata": {},
   "outputs": [],
   "source": [
    "import numpy as np\n",
    "import pandas as pd\n",
    "from sklearn.svm import SVC\n",
    "from sklearn import datasets\n",
    "import matplotlib.pyplot as plt\n",
    "from sklearn.metrics import accuracy_score\n",
    "from sklearn.linear_model import LogisticRegression\n",
    "from tensorflow.keras.preprocessing.image import ImageDataGenerator"
   ]
  },
  {
   "cell_type": "code",
   "execution_count": null,
   "id": "6d38f8fe",
   "metadata": {},
   "outputs": [],
   "source": [
    "plot_colors = \"ryb\"\n",
    "plot_step = 0.02\n",
    "\n",
    "\n",
    "def decision_boundary(X, y, model, iris, two=None):\n",
    "    x_min, x_max = X[:, 0].min() - 1, X[:, 0].max() + 1\n",
    "    y_min, y_max = X[:, 1].min() - 1, X[:, 1].max() + 1\n",
    "    xx, yy = np.meshgrid(\n",
    "        np.arange(x_min, x_max, plot_step), np.arange(y_min, y_max, plot_step)\n",
    "    )\n",
    "    plt.tight_layout(h_pad=0.5, w_pad=0.5, pad=2.5)\n",
    "\n",
    "    Z = model.predict(np.c_[xx.ravel(), yy.ravel()])\n",
    "    Z = Z.reshape(xx.shape)\n",
    "    cs = plt.contourf(xx, yy, Z, cmap=plt.cm.RdYlBu)\n",
    "\n",
    "    if two:\n",
    "        cs = plt.contourf(xx, yy, Z, cmap=plt.cm.RdYlBu)\n",
    "        for i, color in zip(np.unique(y), plot_colors):\n",
    "\n",
    "            idx = np.where(y == i)\n",
    "            plt.scatter(X[idx, 0], X[idx, 1], label=y, cmap=plt.cm.RdYlBu, s=15)\n",
    "        plt.show()\n",
    "\n",
    "    else:\n",
    "        set_ = {0, 1, 2}\n",
    "        print(set_)\n",
    "        for i, color in zip(range(3), plot_colors):\n",
    "            idx = np.where(y == i)\n",
    "            if np.any(idx):\n",
    "\n",
    "                set_.remove(i)\n",
    "\n",
    "                plt.scatter(\n",
    "                    X[idx, 0],\n",
    "                    X[idx, 1],\n",
    "                    label=y,\n",
    "                    cmap=plt.cm.RdYlBu,\n",
    "                    edgecolor=\"black\",\n",
    "                    s=15,\n",
    "                )\n",
    "\n",
    "        for i in set_:\n",
    "            idx = np.where(iris.target == i)\n",
    "            plt.scatter(X[idx, 0], X[idx, 1], marker=\"x\", color=\"black\")\n",
    "\n",
    "        plt.show()"
   ]
  },
  {
   "cell_type": "code",
   "execution_count": null,
   "id": "b7a01859",
   "metadata": {},
   "outputs": [],
   "source": [
    "def plot_probability_array(X, probability_array):\n",
    "\n",
    "    plot_array = np.zeros((X.shape[0], 30))\n",
    "    col_start = 0\n",
    "    ones = np.ones((X.shape[0], 30))\n",
    "    for class_, col_end in enumerate([10, 20, 30]):\n",
    "        plot_array[:, col_start:col_end] = np.repeat(\n",
    "            probability_array[:, class_].reshape(-1, 1), 10, axis=1\n",
    "        )\n",
    "        col_start = col_end\n",
    "    plt.imshow(plot_array)\n",
    "    plt.xticks([])\n",
    "    plt.ylabel(\"samples\")\n",
    "    plt.xlabel(\"probability of 3 classes\")\n",
    "    plt.colorbar()\n",
    "    plt.show()"
   ]
  },
  {
   "cell_type": "code",
   "execution_count": null,
   "id": "0a876101",
   "metadata": {},
   "outputs": [],
   "source": [
    "pair = [1, 3]\n",
    "X = X_2D\n",
    "np.unique(y)"
   ]
  },
  {
   "cell_type": "code",
   "execution_count": null,
   "id": "d4963962",
   "metadata": {},
   "outputs": [],
   "source": [
    "plt.scatter(X[:, 0], X[:, 1], c=y, cmap=plt.cm.RdYlBu)\n",
    "plt.xlabel(\"sepal width (cm)\")\n",
    "plt.ylabel(\"petal width\")"
   ]
  },
  {
   "cell_type": "code",
   "execution_count": null,
   "id": "1a339e27",
   "metadata": {},
   "outputs": [],
   "source": [
    "lr = LogisticRegression(random_state=0).fit(X, y)"
   ]
  },
  {
   "cell_type": "code",
   "execution_count": null,
   "id": "00b925e4",
   "metadata": {},
   "outputs": [],
   "source": [
    "probability = lr.predict_proba(X)"
   ]
  },
  {
   "cell_type": "code",
   "execution_count": null,
   "id": "7836ecd7",
   "metadata": {},
   "outputs": [],
   "source": [
    "plot_probability_array(X, probability)"
   ]
  },
  {
   "cell_type": "code",
   "execution_count": null,
   "id": "ac70bdf4",
   "metadata": {},
   "outputs": [],
   "source": [
    "probability[0, :]"
   ]
  },
  {
   "cell_type": "code",
   "execution_count": null,
   "id": "05466dd1",
   "metadata": {},
   "outputs": [],
   "source": [
    "probability[0, :].sum()"
   ]
  },
  {
   "cell_type": "code",
   "execution_count": null,
   "id": "be4629f8",
   "metadata": {},
   "outputs": [],
   "source": [
    "np.argmax(probability[0, :])"
   ]
  },
  {
   "cell_type": "code",
   "execution_count": null,
   "id": "a69f7a18",
   "metadata": {},
   "outputs": [],
   "source": [
    "softmax_prediction = np.argmax(probability, axis=1)\n",
    "softmax_prediction"
   ]
  },
  {
   "cell_type": "code",
   "execution_count": null,
   "id": "0227e1e4",
   "metadata": {},
   "outputs": [],
   "source": [
    "yhat = lr.predict(X)\n",
    "accuracy_score(yhat, softmax_prediction)"
   ]
  },
  {
   "cell_type": "code",
   "execution_count": null,
   "id": "41e5e414",
   "metadata": {},
   "outputs": [],
   "source": [
    "model = SVC(kernel=\"linear\", gamma=0.5, probability=True)\n",
    "\n",
    "model.fit(X, y)"
   ]
  },
  {
   "cell_type": "code",
   "execution_count": null,
   "id": "f77925d1",
   "metadata": {},
   "outputs": [],
   "source": [
    "yhat = model.predict(X)\n",
    "accuracy_score(y, yhat)"
   ]
  },
  {
   "cell_type": "code",
   "execution_count": null,
   "id": "a22c6631",
   "metadata": {},
   "outputs": [],
   "source": [
    "decision_boundary(X, y, model, iris)"
   ]
  },
  {
   "cell_type": "code",
   "execution_count": null,
   "id": "29472f9f",
   "metadata": {},
   "outputs": [],
   "source": [
    "dummy_class = y.max() + 1\n",
    "my_models = []\n",
    "\n",
    "for class_ in np.unique(y):\n",
    "\n",
    "    select = y == class_\n",
    "    temp_y = np.zeros(y.shape)\n",
    "\n",
    "    temp_y[y == class_] = class_\n",
    "\n",
    "    temp_y[y != class_] = dummy_class\n",
    "\n",
    "    model = SVC(kernel=\"linear\", gamma=0.5, probability=True)\n",
    "    my_models.append(model.fit(X, temp_y))\n",
    "\n",
    "    decision_boundary(X, temp_y, model, iris)"
   ]
  },
  {
   "cell_type": "code",
   "execution_count": null,
   "id": "41d064af",
   "metadata": {},
   "outputs": [],
   "source": [
    "probability_array = np.zeros((X.shape[0], 3))\n",
    "for j, model in enumerate(my_models):\n",
    "\n",
    "    real_class = np.where(np.array(model.classes_) != 3)[0]\n",
    "\n",
    "    probability_array[:, j] = model.predict_proba(X)[:, real_class][:, 0]"
   ]
  },
  {
   "cell_type": "code",
   "execution_count": null,
   "id": "acfd53f1",
   "metadata": {},
   "outputs": [],
   "source": [
    "probability_array[0, :]"
   ]
  },
  {
   "cell_type": "code",
   "execution_count": null,
   "id": "d9a92571",
   "metadata": {},
   "outputs": [],
   "source": [
    "probability_array[0, :].sum()"
   ]
  },
  {
   "cell_type": "code",
   "execution_count": null,
   "id": "72d15421",
   "metadata": {},
   "outputs": [],
   "source": [
    "plot_probability_array(X, probability_array)"
   ]
  },
  {
   "cell_type": "code",
   "execution_count": null,
   "id": "dac3396c",
   "metadata": {},
   "outputs": [],
   "source": [
    "one_vs_all = np.argmax(probability_array, axis=1)\n",
    "one_vs_all"
   ]
  },
  {
   "cell_type": "code",
   "execution_count": null,
   "id": "ff75df3b",
   "metadata": {},
   "outputs": [],
   "source": [
    "accuracy_score(y, one_vs_all)"
   ]
  },
  {
   "cell_type": "code",
   "execution_count": null,
   "id": "c9953a8b",
   "metadata": {},
   "outputs": [],
   "source": [
    "accuracy_score(one_vs_all, yhat)"
   ]
  },
  {
   "cell_type": "code",
   "execution_count": null,
   "id": "c2363e4b",
   "metadata": {},
   "outputs": [],
   "source": [
    "classes_ = set(np.unique(y))\n",
    "classes_"
   ]
  },
  {
   "cell_type": "code",
   "execution_count": null,
   "id": "61b2196c",
   "metadata": {},
   "outputs": [],
   "source": [
    "K = len(classes_)\n",
    "K * (K - 1) / 2"
   ]
  },
  {
   "cell_type": "code",
   "execution_count": null,
   "id": "f8110927",
   "metadata": {},
   "outputs": [],
   "source": [
    "pairs = []\n",
    "left_overs = classes_.copy()\n",
    "\n",
    "my_models = []\n",
    "\n",
    "for class_ in classes_:\n",
    "\n",
    "    left_overs.remove(class_)\n",
    "\n",
    "    for second_class in left_overs:\n",
    "        pairs.append(str(class_) + \" and \" + str(second_class))\n",
    "        print(\"class {} vs class {} \".format(class_, second_class))\n",
    "        temp_y = np.zeros(y.shape)\n",
    "\n",
    "        select = np.logical_or(y == class_, y == second_class)\n",
    "\n",
    "        model = SVC(kernel=\"linear\", gamma=0.5, probability=True)\n",
    "        model.fit(X[select, :], y[select])\n",
    "        my_models.append(model)\n",
    "\n",
    "        decision_boundary(X[select, :], y[select], model, iris, two=True)"
   ]
  },
  {
   "cell_type": "code",
   "execution_count": null,
   "id": "ea2a79b8",
   "metadata": {},
   "outputs": [],
   "source": [
    "pairs"
   ]
  },
  {
   "cell_type": "code",
   "execution_count": null,
   "id": "ae065263",
   "metadata": {},
   "outputs": [],
   "source": [
    "pairs\n",
    "majority_vote_array = np.zeros((X.shape[0], 3))\n",
    "majority_vote_dict = {}\n",
    "for j, (model, pair) in enumerate(zip(my_models, pairs)):\n",
    "\n",
    "    majority_vote_dict[pair] = model.predict(X)\n",
    "    majority_vote_array[:, j] = model.predict(X)"
   ]
  },
  {
   "cell_type": "code",
   "execution_count": null,
   "id": "90a19e1e",
   "metadata": {},
   "outputs": [],
   "source": [
    "pd.DataFrame(majority_vote_dict).head(10)"
   ]
  },
  {
   "cell_type": "code",
   "execution_count": null,
   "id": "d839bf03",
   "metadata": {},
   "outputs": [],
   "source": [
    "one_vs_one = np.array(\n",
    "    [np.bincount(sample.astype(int)).argmax() for sample in majority_vote_array]\n",
    ")\n",
    "one_vs_one"
   ]
  },
  {
   "cell_type": "code",
   "execution_count": null,
   "id": "d6bd9581",
   "metadata": {},
   "outputs": [],
   "source": [
    "accuracy_score(y, one_vs_one)"
   ]
  },
  {
   "cell_type": "code",
   "execution_count": null,
   "id": "c06a779e",
   "metadata": {},
   "outputs": [],
   "source": [
    "accuracy_score(yhat, one_vs_one)"
   ]
  },
  {
   "cell_type": "markdown",
   "id": "0b29c57d",
   "metadata": {},
   "source": [
    "<!--\n",
    "## Change Log\n",
    "| Date (YYYY-MM-DD) | Version | Changed By | Change Description      |\n",
    "| ----------------- | ------- | ---------- | ----------------------- |\n",
    "| 2020-07-20        | 0.2     | Azim       | Modified Multiple Areas |\n",
    "| 2020-07-17        | 0.1     | Azim       | Created Lab Template    |\n",
    "| 2022-08-31        | 0.3     | Steve Hord | QA pass edits           |\n",
    "--!>\n"
   ]
  },
  {
   "cell_type": "code",
   "execution_count": null,
   "id": "a097908f",
   "metadata": {},
   "outputs": [],
   "source": [
    "import numpy as np\n",
    "import matplotlib.pyplot as plt\n",
    "import os\n",
    "import cv2\n",
    "from sklearn.svm import SVC\n",
    "from sklearn.linear_model import LogisticRegression\n",
    "from sklearn.model_selection import train_test_split\n",
    "from sklearn.metrics import accuracy_score\n",
    "from sklearn.preprocessing import LabelEncoder\n",
    "\n",
    "\n",
    "# Load and preprocess images\n",
    "def load_images(folder, size=(64, 64)):\n",
    "    X = []\n",
    "    y = []\n",
    "    for label in os.listdir(folder):\n",
    "        label_path = os.path.join(folder, label)\n",
    "        if not os.path.isdir(label_path):\n",
    "            continue\n",
    "        for img_name in os.listdir(label_path):\n",
    "            img_path = os.path.join(label_path, img_name)\n",
    "            try:\n",
    "                img = cv2.imread(img_path)\n",
    "                img = cv2.resize(img, size)\n",
    "                X.append(img.flatten())\n",
    "                y.append(label)\n",
    "            except:\n",
    "                print(f\"Error loading {img_path}\")\n",
    "    return np.array(X), np.array(y)\n",
    "\n",
    "\n",
    "# Load dataset\n",
    "X, y = load_images(\"food_images\")\n",
    "\n",
    "# Encode labels\n",
    "le = LabelEncoder()\n",
    "y_encoded = le.fit_transform(y)\n",
    "\n",
    "# Train-test split\n",
    "X_train, X_test, y_train, y_test = train_test_split(\n",
    "    X, y_encoded, test_size=0.2, random_state=42\n",
    ")\n",
    "\n",
    "# Choose classifier: Logistic Regression or SVM\n",
    "clf = SVC(kernel=\"linear\", probability=True)  # or LogisticRegression()\n",
    "clf.fit(X_train, y_train)\n",
    "\n",
    "# Predict\n",
    "y_pred = clf.predict(X_test)\n",
    "\n",
    "# Evaluate\n",
    "print(\"Accuracy:\", accuracy_score(y_test, y_pred))"
   ]
  }
 ],
 "metadata": {
  "kernelspec": {
   "display_name": "env",
   "language": "python",
   "name": "python3"
  },
  "language_info": {
   "codemirror_mode": {
    "name": "ipython",
    "version": 3
   },
   "file_extension": ".py",
   "mimetype": "text/x-python",
   "name": "python",
   "nbconvert_exporter": "python",
   "pygments_lexer": "ipython3",
   "version": "3.13.5"
  }
 },
 "nbformat": 4,
 "nbformat_minor": 5
}
