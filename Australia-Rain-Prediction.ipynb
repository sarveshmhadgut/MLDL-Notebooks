{
  "cells": [
    {
      "cell_type": "code",
      "execution_count": null,
      "metadata": {
        "trusted": true
      },
      "outputs": [],
      "source": [
        "!pip install -qy pandas==1.3.4 numpy==1.21.4 seaborn==0.9.0 matplotlib==3.5.0 scikit-learn==0.20.1"
      ]
    },
    {
      "cell_type": "code",
      "execution_count": null,
      "metadata": {
        "trusted": true
      },
      "outputs": [],
      "source": [
        "def warn(*args, **kwargs):\n",
        "    pass\n",
        "\n",
        "\n",
        "import warnings\n",
        "\n",
        "warnings.warn = warn"
      ]
    },
    {
      "cell_type": "code",
      "execution_count": null,
      "metadata": {
        "trusted": true
      },
      "outputs": [],
      "source": [
        "import pandas as pd\n",
        "from sklearn.linear_model import LogisticRegression\n",
        "from sklearn.linear_model import LinearRegression\n",
        "from sklearn import preprocessing\n",
        "import numpy as np\n",
        "from sklearn.neighbors import KNeighborsClassifier\n",
        "from sklearn.model_selection import train_test_split\n",
        "from sklearn.neighbors import KNeighborsClassifier\n",
        "from sklearn.tree import DecisionTreeClassifier\n",
        "from sklearn import svm\n",
        "from sklearn.metrics import jaccard_score\n",
        "from sklearn.metrics import f1_score\n",
        "from sklearn.metrics import log_loss\n",
        "from sklearn.metrics import confusion_matrix, accuracy_score\n",
        "import sklearn.metrics as metrics"
      ]
    },
    {
      "cell_type": "markdown",
      "metadata": {},
      "source": [
        "### Importing the Dataset\n"
      ]
    },
    {
      "cell_type": "code",
      "execution_count": null,
      "metadata": {
        "trusted": true
      },
      "outputs": [],
      "source": [
        "from pyodide.http import pyfetch\n",
        "\n",
        "\n",
        "async def download(url, filename):\n",
        "    response = await pyfetch(url)\n",
        "    if response.status == 200:\n",
        "        with open(filename, \"wb\") as f:\n",
        "            f.write(await response.bytes())"
      ]
    },
    {
      "cell_type": "code",
      "execution_count": null,
      "metadata": {
        "trusted": true
      },
      "outputs": [],
      "source": [
        "await download(path, \"Weather_Data.csv\")\n",
        "filename = \"Weather_Data.csv\""
      ]
    },
    {
      "cell_type": "code",
      "execution_count": null,
      "metadata": {
        "trusted": true
      },
      "outputs": [],
      "source": [
        "df = pd.read_csv(\"Weather_Data.csv\")"
      ]
    },
    {
      "cell_type": "code",
      "execution_count": null,
      "metadata": {
        "trusted": true
      },
      "outputs": [],
      "source": [
        "df.head()"
      ]
    },
    {
      "cell_type": "markdown",
      "metadata": {},
      "source": [
        "### Data Preprocessing\n"
      ]
    },
    {
      "cell_type": "markdown",
      "metadata": {},
      "source": [
        "#### One Hot Encoding\n"
      ]
    },
    {
      "cell_type": "code",
      "execution_count": null,
      "metadata": {
        "trusted": true
      },
      "outputs": [],
      "source": [
        "df_sydney_processed = pd.get_dummies(\n",
        "    data=df, columns=[\"RainToday\", \"WindGustDir\", \"WindDir9am\", \"WindDir3pm\"]\n",
        ")"
      ]
    },
    {
      "cell_type": "code",
      "execution_count": null,
      "metadata": {
        "trusted": true
      },
      "outputs": [],
      "source": [
        "df_sydney_processed.replace([\"No\", \"Yes\"], [0, 1], inplace=True)"
      ]
    },
    {
      "cell_type": "markdown",
      "metadata": {},
      "source": [
        "### Training Data and Test Data\n"
      ]
    },
    {
      "cell_type": "code",
      "execution_count": null,
      "metadata": {
        "trusted": true
      },
      "outputs": [],
      "source": [
        "df_sydney_processed.drop(\"Date\", axis=1, inplace=True)"
      ]
    },
    {
      "cell_type": "code",
      "execution_count": null,
      "metadata": {
        "trusted": true
      },
      "outputs": [],
      "source": [
        "df_sydney_processed = df_sydney_processed.astype(float)"
      ]
    },
    {
      "cell_type": "code",
      "execution_count": null,
      "metadata": {
        "trusted": true
      },
      "outputs": [],
      "source": [
        "features = df_sydney_processed.drop(columns=\"RainTomorrow\", axis=1)\n",
        "Y = df_sydney_processed[\"RainTomorrow\"]"
      ]
    },
    {
      "cell_type": "markdown",
      "metadata": {},
      "source": [
        "### Linear Regression\n"
      ]
    },
    {
      "cell_type": "markdown",
      "metadata": {},
      "source": [
        "`train_test_split` function to split the `features` and `Y` dataframes with a `test_size` of `0.2` and the `random_state` set to `10`.\n"
      ]
    },
    {
      "cell_type": "code",
      "execution_count": null,
      "metadata": {
        "trusted": true
      },
      "outputs": [],
      "source": [
        "train_X, test_X, train_y, test_y = train_test_split(\n",
        "    features, Y, test_size=0.2, random_state=20\n",
        ")\n",
        "\n",
        "print(\"Train X dimensions: \", train_X.shape)\n",
        "print(\"Train y size      : \", train_y.size)\n",
        "print(\"Test X dimensions : \", test_X.shape)\n",
        "print(\"Test y size       : \", test_y.size)"
      ]
    },
    {
      "cell_type": "markdown",
      "metadata": {},
      "source": [
        "#### Training a Linear Regression\n"
      ]
    },
    {
      "cell_type": "code",
      "execution_count": null,
      "metadata": {
        "trusted": true
      },
      "outputs": [],
      "source": [
        "LinearReg = LinearRegression().fit(train_X, train_y)\n",
        "LinearReg"
      ]
    },
    {
      "cell_type": "code",
      "execution_count": null,
      "metadata": {
        "trusted": true
      },
      "outputs": [],
      "source": [
        "predictions = LinearReg.predict(test_X)\n",
        "# print(predictions)"
      ]
    },
    {
      "cell_type": "code",
      "execution_count": null,
      "metadata": {
        "trusted": true
      },
      "outputs": [],
      "source": [
        "LinearRegression_MAE = np.mean(np.absolute(predictions - test_y))\n",
        "LinearRegression_MSE = np.mean((predictions - test_y) ** 2)\n",
        "LinearRegression_R2 = metrics.r2_score(test_y, predictions)"
      ]
    },
    {
      "cell_type": "markdown",
      "metadata": {},
      "source": [
        "#### MAE, MSE, and R2.\n"
      ]
    },
    {
      "cell_type": "code",
      "execution_count": null,
      "metadata": {
        "trusted": true
      },
      "outputs": [],
      "source": [
        "Report = pd.DataFrame(\n",
        "    {\n",
        "        \"Metric\": [\"MAE  \", \"MSE  \", \"R2   \"],\n",
        "        \"Values\": [\n",
        "            round(LinearRegression_MAE, 2),\n",
        "            round(LinearRegression_MSE, 2),\n",
        "            round(LinearRegression_R2, 2),\n",
        "        ],\n",
        "    }\n",
        ")\n",
        "print(Report)"
      ]
    },
    {
      "cell_type": "markdown",
      "metadata": {},
      "source": [
        "### KNN\n"
      ]
    },
    {
      "cell_type": "code",
      "execution_count": null,
      "metadata": {
        "trusted": true
      },
      "outputs": [],
      "source": [
        "KNN = KNeighborsClassifier(n_neighbors=4).fit(train_X, train_y)"
      ]
    },
    {
      "cell_type": "code",
      "execution_count": null,
      "metadata": {
        "trusted": true
      },
      "outputs": [],
      "source": [
        "predictions = KNN.predict(test_X)"
      ]
    },
    {
      "cell_type": "code",
      "execution_count": null,
      "metadata": {
        "trusted": true
      },
      "outputs": [],
      "source": [
        "KNN_Accuracy_Score = accuracy_score(test_y, predictions)\n",
        "KNN_JaccardIndex = jaccard_score(test_y, predictions, pos_label=0)\n",
        "KNN_F1_Score = f1_score(test_y, predictions)\n",
        "\n",
        "print(\"Accuracy Score : \", round(KNN_Accuracy_Score), 2)\n",
        "print(\"Jaccard Index  : \", round(KNN_JaccardIndex, 2))\n",
        "print(\"F1 Score       : \", round(KNN_F1_Score, 2))"
      ]
    },
    {
      "cell_type": "markdown",
      "metadata": {},
      "source": [
        "### Decision Tree\n"
      ]
    },
    {
      "cell_type": "code",
      "execution_count": null,
      "metadata": {
        "trusted": true
      },
      "outputs": [],
      "source": [
        "Tree = DecisionTreeClassifier(criterion=\"entropy\", max_depth=10).fit(train_X, train_y)\n",
        "Tree"
      ]
    },
    {
      "cell_type": "code",
      "execution_count": null,
      "metadata": {
        "trusted": true
      },
      "outputs": [],
      "source": [
        "predictions = Tree.predict(test_X)"
      ]
    },
    {
      "cell_type": "code",
      "execution_count": null,
      "metadata": {
        "trusted": true
      },
      "outputs": [],
      "source": [
        "Tree_Accuracy_Score = accuracy_score(test_y, predictions)\n",
        "Tree_JaccardIndex = jaccard_score(test_y, predictions, pos_label=0)\n",
        "Tree_F1_Score = f1_score(test_y, predictions)\n",
        "\n",
        "print(\"Accuracy Score : \", round(Tree_Accuracy_Score), 2)\n",
        "print(\"Jaccard Index  : \", round(Tree_JaccardIndex, 2))\n",
        "print(\"F1 Score       : \", round(Tree_F1_Score, 2))"
      ]
    },
    {
      "cell_type": "markdown",
      "metadata": {},
      "source": [
        "### Logistic Regression\n"
      ]
    },
    {
      "cell_type": "code",
      "execution_count": null,
      "metadata": {
        "trusted": true
      },
      "outputs": [],
      "source": [
        "x_train, x_test, y_train, y_test = train_test_split(\n",
        "    features, Y, test_size=0.2, random_state=1\n",
        ")\n",
        "\n",
        "print(\"Train X dimensions: \", x_train.shape)\n",
        "print(\"Train y size      : \", y_train.size)\n",
        "print(\"Test X dimensions : \", x_test.shape)\n",
        "print(\"Test y size       : \", y_test.size)"
      ]
    },
    {
      "cell_type": "code",
      "execution_count": null,
      "metadata": {
        "trusted": true
      },
      "outputs": [],
      "source": [
        "LR = LogisticRegression(C=0.01, solver=\"liblinear\").fit(x_train, y_train)\n",
        "LR"
      ]
    },
    {
      "cell_type": "code",
      "execution_count": null,
      "metadata": {
        "trusted": true
      },
      "outputs": [],
      "source": [
        "predictions = LR.predict(x_test)"
      ]
    },
    {
      "cell_type": "code",
      "execution_count": null,
      "metadata": {
        "trusted": true
      },
      "outputs": [],
      "source": [
        "predict_proba = LR.predict_proba(x_test)"
      ]
    },
    {
      "cell_type": "code",
      "execution_count": null,
      "metadata": {
        "trusted": true
      },
      "outputs": [],
      "source": [
        "LR_Accuracy_Score = accuracy_score(y_test, predictions)\n",
        "LR_JaccardIndex = jaccard_score(y_test, predictions, pos_label=0)\n",
        "LR_F1_Score = f1_score(y_test, predictions)\n",
        "LR_Log_Loss = log_loss(y_test, predict_proba)\n",
        "\n",
        "print(\"Accuracy Score : \", round(LR_Accuracy_Score), 2)\n",
        "print(\"Jaccard Index  : \", round(LR_JaccardIndex, 2))\n",
        "print(\"F1 Score       : \", round(LR_F1_Score, 2))\n",
        "print(\"Log Loss       : \", round(LR_Log_Loss, 2))"
      ]
    },
    {
      "cell_type": "markdown",
      "metadata": {},
      "source": [
        "### SVM\n"
      ]
    },
    {
      "cell_type": "code",
      "execution_count": null,
      "metadata": {
        "trusted": true
      },
      "outputs": [],
      "source": [
        "SVM = svm.SVC(kernel=\"rbf\").fit(x_train, y_train)\n",
        "SVM"
      ]
    },
    {
      "cell_type": "code",
      "execution_count": null,
      "metadata": {
        "trusted": true
      },
      "outputs": [],
      "source": [
        "predictions = SVM.predict(x_test)"
      ]
    },
    {
      "cell_type": "code",
      "execution_count": null,
      "metadata": {
        "trusted": true
      },
      "outputs": [],
      "source": [
        "SVM_Accuracy_Score = accuracy_score(y_test, predictions)\n",
        "SVM_JaccardIndex = jaccard_score(y_test, predictions, pos_label=0)\n",
        "SVM_F1_Score = f1_score(y_test, predictions)\n",
        "\n",
        "print(\"Accuracy Score : \", round(SVM_Accuracy_Score), 2)\n",
        "print(\"Jaccard Index  : \", round(SVM_JaccardIndex, 2))\n",
        "print(\"F1 Score       : \", round(SVM_F1_Score, 2))"
      ]
    },
    {
      "cell_type": "markdown",
      "metadata": {},
      "source": [
        "### Report\n"
      ]
    },
    {
      "cell_type": "code",
      "execution_count": null,
      "metadata": {
        "trusted": true
      },
      "outputs": [],
      "source": [
        "Report = pd.DataFrame(\n",
        "    [\n",
        "        [\n",
        "            round(KNN_Accuracy_Score, 2),\n",
        "            round(KNN_JaccardIndex, 2),\n",
        "            round(KNN_F1_Score, 2),\n",
        "            None,\n",
        "        ],\n",
        "        [\n",
        "            round(Tree_Accuracy_Score, 2),\n",
        "            round(Tree_JaccardIndex, 2),\n",
        "            round(Tree_F1_Score, 2),\n",
        "            None,\n",
        "        ],\n",
        "        [\n",
        "            round(LR_Accuracy_Score, 2),\n",
        "            round(LR_JaccardIndex, 2),\n",
        "            round(LR_F1_Score, 2),\n",
        "            round(LR_Log_Loss, 2),\n",
        "        ],\n",
        "        [\n",
        "            round(SVM_Accuracy_Score, 2),\n",
        "            round(SVM_JaccardIndex, 2),\n",
        "            round(SVM_F1_Score, 2),\n",
        "            None,\n",
        "        ],\n",
        "    ],\n",
        "    index=[\n",
        "        \"KNNeighbors\",\n",
        "        \"DecisionsTree\",\n",
        "        \"Logistic Regression\",\n",
        "        \"SupportVectorMachine\",\n",
        "    ],\n",
        "    columns=[\"Accuracy Score\", \"Jaccard Index\", \"F1 Score\", \"Log Loss\"],\n",
        ")\n",
        "\n",
        "print(Report)"
      ]
    }
  ],
  "metadata": {
    "kernelspec": {
      "display_name": "Python 3",
      "language": "python",
      "name": "python3"
    },
    "language_info": {
      "codemirror_mode": {
        "name": "ipython",
        "version": 3
      },
      "file_extension": ".py",
      "mimetype": "text/x-python",
      "name": "python",
      "nbconvert_exporter": "python",
      "pygments_lexer": "ipython3",
      "version": "3.11.11"
    },
    "prev_pub_hash": "b45b938fc7420206c5fa3f040f896f2a578fd1045d763cf82b4c02f8772d2aee"
  },
  "nbformat": 4,
  "nbformat_minor": 4
}
