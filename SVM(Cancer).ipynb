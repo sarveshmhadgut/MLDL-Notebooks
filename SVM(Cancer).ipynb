{
 "cells": [
  {
   "cell_type": "code",
   "execution_count": null,
   "metadata": {
    "colab": {
     "base_uri": "https://localhost:8080/"
    },
    "executionInfo": {
     "elapsed": 29325,
     "status": "ok",
     "timestamp": 1735969866034,
     "user": {
      "displayName": "Sarvesh Mhadgut",
      "userId": "11273560109942760670"
     },
     "user_tz": -330
    },
    "id": "8a280c32-6b38-499b-9efb-9feca2ce52c0",
    "outputId": "3565fe55-4eb9-4c02-9e7e-be69d9fef282"
   },
   "outputs": [],
   "source": [
    "!pip install scikit-learn\n",
    "!pip install matplotlib\n",
    "!pip install pandas\n",
    "!pip install numpy\n",
    "%matplotlib inline"
   ]
  },
  {
   "cell_type": "code",
   "execution_count": null,
   "metadata": {
    "executionInfo": {
     "elapsed": 3208,
     "status": "ok",
     "timestamp": 1735969877705,
     "user": {
      "displayName": "Sarvesh Mhadgut",
      "userId": "11273560109942760670"
     },
     "user_tz": -330
    },
    "id": "11ada415-f253-4a92-842f-27f7fe1a6129"
   },
   "outputs": [],
   "source": [
    "import pandas as pd\n",
    "import pylab as pl\n",
    "import numpy as np\n",
    "import scipy.optimize as opt\n",
    "from sklearn import preprocessing\n",
    "from sklearn.model_selection import train_test_split\n",
    "%matplotlib inline\n",
    "import matplotlib.pyplot as plt"
   ]
  },
  {
   "cell_type": "code",
   "execution_count": null,
   "metadata": {
    "colab": {
     "base_uri": "https://localhost:8080/",
     "height": 206
    },
    "executionInfo": {
     "elapsed": 480,
     "status": "ok",
     "timestamp": 1735969895453,
     "user": {
      "displayName": "Sarvesh Mhadgut",
      "userId": "11273560109942760670"
     },
     "user_tz": -330
    },
    "id": "39b5572b-50ae-46f4-ba11-446cc59e0c44",
    "outputId": "ed79a746-c8ea-4a07-ef07-0684fde2fe20"
   },
   "outputs": [],
   "source": [
    "cell_df = pd.read_csv(\"cell_samples.csv\")\n",
    "cell_df.head()"
   ]
  },
  {
   "cell_type": "code",
   "execution_count": null,
   "metadata": {
    "colab": {
     "base_uri": "https://localhost:8080/",
     "height": 449
    },
    "executionInfo": {
     "elapsed": 524,
     "status": "ok",
     "timestamp": 1735970168502,
     "user": {
      "displayName": "Sarvesh Mhadgut",
      "userId": "11273560109942760670"
     },
     "user_tz": -330
    },
    "id": "3ce9066c-58a6-488e-bc3c-29208b138df9",
    "outputId": "04556048-796f-464a-a81d-500aefd85ff0"
   },
   "outputs": [],
   "source": [
    "ax = cell_df[cell_df[\"Class\"] == 4][0:50].plot(\n",
    "    kind=\"scatter\", x=\"Clump\", y=\"UnifSize\", color=\"Blue\", label=\"malignant\"\n",
    ")\n",
    "ax.set_facecolor(\"black\")\n",
    "cell_df[cell_df[\"Class\"] == 2][0:50].plot(\n",
    "    kind=\"scatter\", x=\"Clump\", y=\"UnifSize\", color=\"Yellow\", label=\"benign\", ax=ax\n",
    ")\n",
    "plt.show()"
   ]
  },
  {
   "cell_type": "code",
   "execution_count": null,
   "metadata": {
    "colab": {
     "base_uri": "https://localhost:8080/",
     "height": 429
    },
    "executionInfo": {
     "elapsed": 700,
     "status": "ok",
     "timestamp": 1735970172177,
     "user": {
      "displayName": "Sarvesh Mhadgut",
      "userId": "11273560109942760670"
     },
     "user_tz": -330
    },
    "id": "a615d937-692a-4d2b-ab3b-678bb63c0251",
    "outputId": "93fc9183-3729-4c7b-e74a-6fde79fc4857"
   },
   "outputs": [],
   "source": [
    "cell_df.dtypes"
   ]
  },
  {
   "cell_type": "code",
   "execution_count": null,
   "metadata": {
    "colab": {
     "base_uri": "https://localhost:8080/",
     "height": 536
    },
    "executionInfo": {
     "elapsed": 593,
     "status": "ok",
     "timestamp": 1735970183590,
     "user": {
      "displayName": "Sarvesh Mhadgut",
      "userId": "11273560109942760670"
     },
     "user_tz": -330
    },
    "id": "c5eb5444-a6c4-4df5-9b56-4e5b6c175998",
    "outputId": "14fb5934-8169-4087-8459-5a326bad3007"
   },
   "outputs": [],
   "source": [
    "cell_df = cell_df[pd.to_numeric(cell_df[\"BareNuc\"], errors=\"coerce\").notnull()]\n",
    "cell_df[\"BareNuc\"] = cell_df[\"BareNuc\"].astype(\"int\")\n",
    "cell_df.dtypes"
   ]
  },
  {
   "cell_type": "code",
   "execution_count": null,
   "metadata": {
    "colab": {
     "base_uri": "https://localhost:8080/"
    },
    "executionInfo": {
     "elapsed": 478,
     "status": "ok",
     "timestamp": 1735970195786,
     "user": {
      "displayName": "Sarvesh Mhadgut",
      "userId": "11273560109942760670"
     },
     "user_tz": -330
    },
    "id": "0c965331-a422-4197-a735-bf06b236e439",
    "outputId": "f900c49a-afa8-4def-a16f-695d762ab9ff"
   },
   "outputs": [],
   "source": [
    "feature_df = cell_df[\n",
    "    [\n",
    "        \"Clump\",\n",
    "        \"UnifSize\",\n",
    "        \"UnifShape\",\n",
    "        \"MargAdh\",\n",
    "        \"SingEpiSize\",\n",
    "        \"BareNuc\",\n",
    "        \"BlandChrom\",\n",
    "        \"NormNucl\",\n",
    "        \"Mit\",\n",
    "    ]\n",
    "]\n",
    "X = np.asarray(feature_df)\n",
    "X[0:5]"
   ]
  },
  {
   "cell_type": "code",
   "execution_count": null,
   "metadata": {
    "colab": {
     "base_uri": "https://localhost:8080/"
    },
    "executionInfo": {
     "elapsed": 477,
     "status": "ok",
     "timestamp": 1735970203621,
     "user": {
      "displayName": "Sarvesh Mhadgut",
      "userId": "11273560109942760670"
     },
     "user_tz": -330
    },
    "id": "449161c9-2d90-4b50-9b56-414f0c81cfd1",
    "outputId": "9e016bf9-7271-45ec-8ff9-af917bc6dea4"
   },
   "outputs": [],
   "source": [
    "y = np.asarray(cell_df[\"Class\"])\n",
    "y[0:5]"
   ]
  },
  {
   "cell_type": "code",
   "execution_count": null,
   "metadata": {
    "colab": {
     "base_uri": "https://localhost:8080/"
    },
    "executionInfo": {
     "elapsed": 10,
     "status": "ok",
     "timestamp": 1735970206588,
     "user": {
      "displayName": "Sarvesh Mhadgut",
      "userId": "11273560109942760670"
     },
     "user_tz": -330
    },
    "id": "4e2d79e3-bbb0-46dd-b66d-28865e483eae",
    "outputId": "1853272b-256c-4896-f199-3046b90ff71d"
   },
   "outputs": [],
   "source": [
    "X_train, X_test, y_train, y_test = train_test_split(X, y, test_size=0.2, random_state=4)\n",
    "print(\"Train set:\", X_train.shape, y_train.shape)\n",
    "print(\"Test set:\", X_test.shape, y_test.shape)"
   ]
  },
  {
   "cell_type": "code",
   "execution_count": null,
   "metadata": {
    "colab": {
     "base_uri": "https://localhost:8080/",
     "height": 80
    },
    "executionInfo": {
     "elapsed": 427,
     "status": "ok",
     "timestamp": 1735970211165,
     "user": {
      "displayName": "Sarvesh Mhadgut",
      "userId": "11273560109942760670"
     },
     "user_tz": -330
    },
    "id": "eebae313-2c6d-4fa1-9b11-bf242e31d5f0",
    "outputId": "3da22ff9-12c0-479d-806c-515495a0bbaf"
   },
   "outputs": [],
   "source": [
    "from sklearn import svm\n",
    "\n",
    "clf = svm.SVC(kernel=\"rbf\")\n",
    "clf.fit(X_train, y_train)"
   ]
  },
  {
   "cell_type": "code",
   "execution_count": null,
   "metadata": {
    "colab": {
     "base_uri": "https://localhost:8080/"
    },
    "executionInfo": {
     "elapsed": 617,
     "status": "ok",
     "timestamp": 1735970225629,
     "user": {
      "displayName": "Sarvesh Mhadgut",
      "userId": "11273560109942760670"
     },
     "user_tz": -330
    },
    "id": "5d4d309d-4118-4d90-b769-4d6eb0a9077b",
    "outputId": "513feaa0-7b52-4bbb-9a1e-589588a76ef9"
   },
   "outputs": [],
   "source": [
    "yhat = clf.predict(X_test)\n",
    "yhat[0:5]"
   ]
  },
  {
   "cell_type": "code",
   "execution_count": null,
   "metadata": {
    "executionInfo": {
     "elapsed": 539,
     "status": "ok",
     "timestamp": 1735970229617,
     "user": {
      "displayName": "Sarvesh Mhadgut",
      "userId": "11273560109942760670"
     },
     "user_tz": -330
    },
    "id": "24c61425-2675-4e18-bd22-406c17f90af9"
   },
   "outputs": [],
   "source": [
    "from sklearn.metrics import classification_report, confusion_matrix\n",
    "import itertools"
   ]
  },
  {
   "cell_type": "code",
   "execution_count": null,
   "metadata": {
    "executionInfo": {
     "elapsed": 4,
     "status": "ok",
     "timestamp": 1735970232478,
     "user": {
      "displayName": "Sarvesh Mhadgut",
      "userId": "11273560109942760670"
     },
     "user_tz": -330
    },
    "id": "d76970cc-f193-4cf6-b55c-50acdfdab266"
   },
   "outputs": [],
   "source": [
    "def plot_confusion_matrix(\n",
    "    cm, classes, normalize=False, title=\"Confusion matrix\", cmap=plt.cm.Blues\n",
    "):\n",
    "\n",
    "    if normalize:\n",
    "        cm = cm.astype(\"float\") / cm.sum(axis=1)[:, np.newaxis]\n",
    "        print(\"Normalized confusion matrix\")\n",
    "    else:\n",
    "        print(\"Confusion matrix, without normalization\")\n",
    "\n",
    "    print(cm)\n",
    "\n",
    "    plt.imshow(cm, interpolation=\"nearest\", cmap=cmap)\n",
    "    plt.title(title)\n",
    "    plt.colorbar()\n",
    "    tick_marks = np.arange(len(classes))\n",
    "    plt.xticks(tick_marks, classes, rotation=45)\n",
    "    plt.yticks(tick_marks, classes)\n",
    "\n",
    "    fmt = \".2f\" if normalize else \"d\"\n",
    "    thresh = cm.max() / 2.0\n",
    "    for i, j in itertools.product(range(cm.shape[0]), range(cm.shape[1])):\n",
    "        plt.text(\n",
    "            j,\n",
    "            i,\n",
    "            format(cm[i, j], fmt),\n",
    "            horizontalalignment=\"center\",\n",
    "            color=\"white\" if cm[i, j] > thresh else \"black\",\n",
    "        )\n",
    "\n",
    "    plt.tight_layout()\n",
    "    plt.ylabel(\"True label\")\n",
    "    plt.xlabel(\"Predicted label\")"
   ]
  },
  {
   "cell_type": "code",
   "execution_count": null,
   "metadata": {
    "colab": {
     "base_uri": "https://localhost:8080/",
     "height": 720
    },
    "executionInfo": {
     "elapsed": 18,
     "status": "ok",
     "timestamp": 1735970236746,
     "user": {
      "displayName": "Sarvesh Mhadgut",
      "userId": "11273560109942760670"
     },
     "user_tz": -330
    },
    "id": "b32b7e74-be17-43c3-9d93-45e0f7b4df92",
    "outputId": "68ce5cdf-f083-4884-ffc4-8a3196b4f065"
   },
   "outputs": [],
   "source": [
    "cnf_matrix = confusion_matrix(y_test, yhat, labels=[2, 4])\n",
    "np.set_printoptions(precision=2)\n",
    "\n",
    "print(classification_report(y_test, yhat))\n",
    "\n",
    "plt.figure()\n",
    "plot_confusion_matrix(\n",
    "    cnf_matrix,\n",
    "    classes=[\"Benign(2)\", \"Malignant(4)\"],\n",
    "    normalize=False,\n",
    "    title=\"Confusion matrix\",\n",
    ")"
   ]
  },
  {
   "cell_type": "code",
   "execution_count": null,
   "metadata": {
    "colab": {
     "base_uri": "https://localhost:8080/"
    },
    "executionInfo": {
     "elapsed": 484,
     "status": "ok",
     "timestamp": 1735970265541,
     "user": {
      "displayName": "Sarvesh Mhadgut",
      "userId": "11273560109942760670"
     },
     "user_tz": -330
    },
    "id": "65076c8d-e87c-4c91-a570-58cf3a2671a1",
    "outputId": "7c861d07-55ce-4d08-e52e-dff5cc3dd5a3"
   },
   "outputs": [],
   "source": [
    "from sklearn.metrics import f1_score\n",
    "\n",
    "f1_score(y_test, yhat, average=\"weighted\")"
   ]
  },
  {
   "cell_type": "code",
   "execution_count": null,
   "metadata": {
    "colab": {
     "base_uri": "https://localhost:8080/"
    },
    "executionInfo": {
     "elapsed": 405,
     "status": "ok",
     "timestamp": 1735970287537,
     "user": {
      "displayName": "Sarvesh Mhadgut",
      "userId": "11273560109942760670"
     },
     "user_tz": -330
    },
    "id": "30351bbe-49ca-4c6a-80f5-3970e9dce476",
    "outputId": "a792ccf2-af7e-4196-cdbe-f8d9b881491c"
   },
   "outputs": [],
   "source": [
    "from sklearn.metrics import jaccard_score\n",
    "\n",
    "jaccard_score(y_test, yhat, pos_label=2)"
   ]
  },
  {
   "cell_type": "code",
   "execution_count": null,
   "metadata": {
    "colab": {
     "base_uri": "https://localhost:8080/",
     "height": 80
    },
    "executionInfo": {
     "elapsed": 628,
     "status": "ok",
     "timestamp": 1735970362039,
     "user": {
      "displayName": "Sarvesh Mhadgut",
      "userId": "11273560109942760670"
     },
     "user_tz": -330
    },
    "id": "a471213a-68fc-4d39-b470-a4dbd725c8df",
    "outputId": "336e0a05-969b-4704-cd6d-c7e3e557a12a"
   },
   "outputs": [],
   "source": [
    "clf = svm.SVC(kernel=\"linear\")\n",
    "clf.fit(X_train, y_train)"
   ]
  },
  {
   "cell_type": "code",
   "execution_count": null,
   "metadata": {
    "colab": {
     "base_uri": "https://localhost:8080/"
    },
    "executionInfo": {
     "elapsed": 19,
     "status": "ok",
     "timestamp": 1735970489880,
     "user": {
      "displayName": "Sarvesh Mhadgut",
      "userId": "11273560109942760670"
     },
     "user_tz": -330
    },
    "id": "_YFbQbrw5Z8B",
    "outputId": "c43f8640-a5b7-4fd0-adb9-31dac146c889"
   },
   "outputs": [],
   "source": [
    "yhat2 = clf.predict(X_test)\n",
    "yhat2[0:5]\n",
    "print(\"F1-score: \", f1_score(y_test, yhat2, average=\"weighted\"))\n",
    "print(\"Jaccard Index: \", jaccard_score(y_test, yhat2, pos_label=2))"
   ]
  }
 ],
 "metadata": {
  "colab": {
   "provenance": []
  },
  "kernelspec": {
   "display_name": "Python 3 (ipykernel)",
   "language": "python",
   "name": "python3"
  },
  "language_info": {
   "codemirror_mode": {
    "name": "ipython",
    "version": 3
   },
   "file_extension": ".py",
   "mimetype": "text/x-python",
   "name": "python",
   "nbconvert_exporter": "python",
   "pygments_lexer": "ipython3",
   "version": "3.11.9"
  },
  "prev_pub_hash": "33c7dcfb268d8bbcaef711e72c89e89dc7bc1929452f1913b971040b140900c5"
 },
 "nbformat": 4,
 "nbformat_minor": 0
}
