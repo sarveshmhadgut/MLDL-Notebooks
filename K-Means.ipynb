{
 "cells": [
  {
   "cell_type": "code",
   "execution_count": null,
   "metadata": {
    "executionInfo": {
     "elapsed": 7,
     "status": "ok",
     "timestamp": 1736254758939,
     "user": {
      "displayName": "Sarvesh Mhadgut",
      "userId": "11273560109942760670"
     },
     "user_tz": -330
    },
    "id": "79125bf2-0645-49af-ae91-fa59da1c75a4"
   },
   "outputs": [],
   "source": [
    "def warn(*args, **kwargs):\n",
    "    pass\n",
    "\n",
    "\n",
    "import warnings\n",
    "\n",
    "warnings.warn = warn"
   ]
  },
  {
   "cell_type": "code",
   "execution_count": null,
   "metadata": {
    "executionInfo": {
     "elapsed": 9484,
     "status": "ok",
     "timestamp": 1736254774501,
     "user": {
      "displayName": "Sarvesh Mhadgut",
      "userId": "11273560109942760670"
     },
     "user_tz": -330
    },
    "id": "7cc52586-f5c1-475a-8933-b8b2450c42ee"
   },
   "outputs": [],
   "source": [
    "import random\n",
    "import numpy as np\n",
    "import matplotlib.pyplot as plt\n",
    "from sklearn.cluster import KMeans\n",
    "from sklearn.datasets import make_blobs\n",
    "%matplotlib inline"
   ]
  },
  {
   "cell_type": "code",
   "execution_count": null,
   "metadata": {
    "executionInfo": {
     "elapsed": 4,
     "status": "ok",
     "timestamp": 1736254774502,
     "user": {
      "displayName": "Sarvesh Mhadgut",
      "userId": "11273560109942760670"
     },
     "user_tz": -330
    },
    "id": "78c4a778-e8e6-49dd-a096-e1787d04e23f"
   },
   "outputs": [],
   "source": [
    "np.random.seed(0)"
   ]
  },
  {
   "cell_type": "code",
   "execution_count": null,
   "metadata": {
    "executionInfo": {
     "elapsed": 399,
     "status": "ok",
     "timestamp": 1736254820459,
     "user": {
      "displayName": "Sarvesh Mhadgut",
      "userId": "11273560109942760670"
     },
     "user_tz": -330
    },
    "id": "5fda8f32-3d97-4063-8e00-7e685a4d6056"
   },
   "outputs": [],
   "source": [
    "X, y = make_blobs(\n",
    "    n_samples=5000, centers=[[4, 4], [-2, -1], [2, -3], [1, 1]], cluster_std=0.9\n",
    ")"
   ]
  },
  {
   "cell_type": "code",
   "execution_count": null,
   "metadata": {
    "colab": {
     "base_uri": "https://localhost:8080/",
     "height": 448
    },
    "executionInfo": {
     "elapsed": 763,
     "status": "ok",
     "timestamp": 1736255061873,
     "user": {
      "displayName": "Sarvesh Mhadgut",
      "userId": "11273560109942760670"
     },
     "user_tz": -330
    },
    "id": "0c358206-729e-4bd1-aa14-fe4a533114bc",
    "outputId": "ecec890c-a2fa-4125-b165-3b87792b2074"
   },
   "outputs": [],
   "source": [
    "plt.scatter(X[:, 0], X[:, 1], marker=\".\")"
   ]
  },
  {
   "cell_type": "code",
   "execution_count": null,
   "metadata": {
    "executionInfo": {
     "elapsed": 363,
     "status": "ok",
     "timestamp": 1736254876869,
     "user": {
      "displayName": "Sarvesh Mhadgut",
      "userId": "11273560109942760670"
     },
     "user_tz": -330
    },
    "id": "e2c1e04f-351f-44d2-af6d-608d6f2b218e"
   },
   "outputs": [],
   "source": [
    "k_means = KMeans(init=\"k-means++\", n_clusters=4, n_init=12)"
   ]
  },
  {
   "cell_type": "code",
   "execution_count": null,
   "metadata": {
    "colab": {
     "base_uri": "https://localhost:8080/",
     "height": 80
    },
    "executionInfo": {
     "elapsed": 376,
     "status": "ok",
     "timestamp": 1736254902648,
     "user": {
      "displayName": "Sarvesh Mhadgut",
      "userId": "11273560109942760670"
     },
     "user_tz": -330
    },
    "id": "29a91cf5-3d86-44d2-a4a7-80f5ae3145e3",
    "outputId": "34eda109-f557-4c8f-b215-5517b7cd53b3"
   },
   "outputs": [],
   "source": [
    "k_means.fit(X)"
   ]
  },
  {
   "cell_type": "code",
   "execution_count": null,
   "metadata": {
    "colab": {
     "base_uri": "https://localhost:8080/"
    },
    "executionInfo": {
     "elapsed": 352,
     "status": "ok",
     "timestamp": 1736254925225,
     "user": {
      "displayName": "Sarvesh Mhadgut",
      "userId": "11273560109942760670"
     },
     "user_tz": -330
    },
    "id": "3051f1f7-6c76-4e72-925c-f807002a33a6",
    "outputId": "16aff110-842d-43a0-8fd6-91921acef7d5"
   },
   "outputs": [],
   "source": [
    "k_means_labels = k_means.labels_\n",
    "k_means_labels"
   ]
  },
  {
   "cell_type": "code",
   "execution_count": null,
   "metadata": {
    "colab": {
     "base_uri": "https://localhost:8080/"
    },
    "executionInfo": {
     "elapsed": 360,
     "status": "ok",
     "timestamp": 1736254940765,
     "user": {
      "displayName": "Sarvesh Mhadgut",
      "userId": "11273560109942760670"
     },
     "user_tz": -330
    },
    "id": "b19d5805-5d79-4326-9d42-132a0de7907d",
    "outputId": "9750c12e-70a5-4671-eeac-673a4a2018d8"
   },
   "outputs": [],
   "source": [
    "k_means_cluster_centers = k_means.cluster_centers_\n",
    "k_means_cluster_centers"
   ]
  },
  {
   "cell_type": "code",
   "execution_count": null,
   "metadata": {
    "colab": {
     "base_uri": "https://localhost:8080/",
     "height": 391
    },
    "executionInfo": {
     "elapsed": 834,
     "status": "ok",
     "timestamp": 1736255120489,
     "user": {
      "displayName": "Sarvesh Mhadgut",
      "userId": "11273560109942760670"
     },
     "user_tz": -330
    },
    "id": "533fa3a3-ae4b-48ce-bd59-22f7f1ddb789",
    "outputId": "0ba17b23-fc46-42b2-d25c-5e67e8cb2d6b"
   },
   "outputs": [],
   "source": [
    "fig = plt.figure(figsize=(6, 4))\n",
    "\n",
    "colors = plt.cm.Spectral(np.linspace(0, 1, len(set(k_means_labels))))\n",
    "\n",
    "ax = fig.add_subplot(1, 1, 1)\n",
    "\n",
    "\n",
    "for k, col in zip(range(len([[4, 4], [-2, -1], [2, -3], [1, 1]])), colors):\n",
    "\n",
    "    my_members = k_means_labels == k\n",
    "\n",
    "    cluster_center = k_means_cluster_centers[k]\n",
    "\n",
    "    ax.plot(X[my_members, 0], X[my_members, 1], \"w\", markerfacecolor=col, marker=\".\")\n",
    "\n",
    "    ax.plot(\n",
    "        cluster_center[0],\n",
    "        cluster_center[1],\n",
    "        \"o\",\n",
    "        markerfacecolor=col,\n",
    "        markeredgecolor=\"k\",\n",
    "        markersize=6,\n",
    "    )\n",
    "\n",
    "ax.set_title(\"KMeans\")\n",
    "\n",
    "plt.show()"
   ]
  },
  {
   "cell_type": "code",
   "execution_count": null,
   "metadata": {
    "colab": {
     "base_uri": "https://localhost:8080/",
     "height": 563
    },
    "executionInfo": {
     "elapsed": 1483,
     "status": "ok",
     "timestamp": 1736256531103,
     "user": {
      "displayName": "Sarvesh Mhadgut",
      "userId": "11273560109942760670"
     },
     "user_tz": -330
    },
    "id": "9044ebaf-e456-4da3-abd7-1afb881a99b8",
    "outputId": "bf5014a1-0671-43c9-9ca1-d357c6f241ce"
   },
   "outputs": [],
   "source": [
    "k_means2 = KMeans(init=\"k-means++\", n_clusters=3, n_init=12)\n",
    "k_means2.fit(X)\n",
    "\n",
    "k_means2_cluster_labels = k_means2.labels_\n",
    "k_means2_cluster_centers = k_means2.cluster_centers_\n",
    "\n",
    "fig = plt.figure(figsize=(6, 6))\n",
    "colors = plt.cm.Spectral(np.linspace(0, 1, len(set(k_means2.labels_))))\n",
    "ax = fig.add_subplot(1, 1, 1)\n",
    "\n",
    "for k, col in zip(range(len(k_means2.cluster_centers_)), colors):\n",
    "    my_members = k_means2.labels_ == k\n",
    "    cluster_center = k_means2.cluster_centers_[k]\n",
    "\n",
    "    ax.plot(X[my_members, 0], X[my_members, 1], \"w\", markerfacecolor=col, marker=\".\")\n",
    "    ax.plot(\n",
    "        cluster_center[0],\n",
    "        cluster_center[1],\n",
    "        \"o\",\n",
    "        markerfacecolor=col,\n",
    "        markeredgecolor=\"k\",\n",
    "        markersize=6,\n",
    "    )\n",
    "\n",
    "ax.set_title(\"KMeans\")"
   ]
  },
  {
   "cell_type": "code",
   "execution_count": null,
   "metadata": {
    "colab": {
     "base_uri": "https://localhost:8080/",
     "height": 206
    },
    "executionInfo": {
     "elapsed": 808,
     "status": "ok",
     "timestamp": 1736256763874,
     "user": {
      "displayName": "Sarvesh Mhadgut",
      "userId": "11273560109942760670"
     },
     "user_tz": -330
    },
    "id": "31383c09-3fbb-40d4-95a6-14563bd6bdc2",
    "outputId": "495be908-7eb3-4771-e962-a4e923578655"
   },
   "outputs": [],
   "source": [
    "import pandas as pd\n",
    "\n",
    "cust_df = pd.read_csv(\n",
    "    \"https://cf-courses-data.s3.us.cloud-object-storage.appdomain.cloud/IBMDeveloperSkillsNetwork-ML0101EN-SkillsNetwork/labs/Module%204/data/Cust_Segmentation.csv\"\n",
    ")\n",
    "cust_df.head()"
   ]
  },
  {
   "cell_type": "code",
   "execution_count": null,
   "metadata": {
    "colab": {
     "base_uri": "https://localhost:8080/",
     "height": 206
    },
    "executionInfo": {
     "elapsed": 400,
     "status": "ok",
     "timestamp": 1736256772252,
     "user": {
      "displayName": "Sarvesh Mhadgut",
      "userId": "11273560109942760670"
     },
     "user_tz": -330
    },
    "id": "b8abda07-296f-4dd6-b40d-b23c0f57adf1",
    "outputId": "7b266acc-2087-4fba-99df-79b0ac1c72b7"
   },
   "outputs": [],
   "source": [
    "df = cust_df.drop(\"Address\", axis=1)\n",
    "df.head()"
   ]
  },
  {
   "cell_type": "code",
   "execution_count": null,
   "metadata": {
    "colab": {
     "base_uri": "https://localhost:8080/"
    },
    "executionInfo": {
     "elapsed": 398,
     "status": "ok",
     "timestamp": 1736256784866,
     "user": {
      "displayName": "Sarvesh Mhadgut",
      "userId": "11273560109942760670"
     },
     "user_tz": -330
    },
    "id": "ab6d8f6b-28b9-482c-b516-fd74f49fb882",
    "outputId": "ef18ba6c-01a8-4402-d7e2-7f12f57ebe1f"
   },
   "outputs": [],
   "source": [
    "from sklearn.preprocessing import StandardScaler\n",
    "\n",
    "X = df.values[:, 1:]\n",
    "X = np.nan_to_num(X)\n",
    "Clus_dataSet = StandardScaler().fit_transform(X)\n",
    "Clus_dataSet"
   ]
  },
  {
   "cell_type": "code",
   "execution_count": null,
   "metadata": {
    "colab": {
     "base_uri": "https://localhost:8080/"
    },
    "executionInfo": {
     "elapsed": 352,
     "status": "ok",
     "timestamp": 1736256793411,
     "user": {
      "displayName": "Sarvesh Mhadgut",
      "userId": "11273560109942760670"
     },
     "user_tz": -330
    },
    "id": "52755792-a253-4c34-9993-8ec54b21a09b",
    "outputId": "d3b5c994-3c0a-4b40-e3af-aa2bee82ea3a"
   },
   "outputs": [],
   "source": [
    "clusterNum = 3\n",
    "k_means = KMeans(init=\"k-means++\", n_clusters=clusterNum, n_init=12)\n",
    "k_means.fit(X)\n",
    "labels = k_means.labels_\n",
    "print(labels)"
   ]
  },
  {
   "cell_type": "code",
   "execution_count": null,
   "metadata": {
    "colab": {
     "base_uri": "https://localhost:8080/",
     "height": 206
    },
    "executionInfo": {
     "elapsed": 419,
     "status": "ok",
     "timestamp": 1736256803825,
     "user": {
      "displayName": "Sarvesh Mhadgut",
      "userId": "11273560109942760670"
     },
     "user_tz": -330
    },
    "id": "e40d855f-690a-41b5-a244-85a366528ffc",
    "outputId": "daebdbae-019d-434d-dcc7-ec7239696690"
   },
   "outputs": [],
   "source": [
    "df[\"Clus_km\"] = labels\n",
    "df.head(5)"
   ]
  },
  {
   "cell_type": "code",
   "execution_count": null,
   "metadata": {
    "colab": {
     "base_uri": "https://localhost:8080/",
     "height": 175
    },
    "executionInfo": {
     "elapsed": 402,
     "status": "ok",
     "timestamp": 1736256812788,
     "user": {
      "displayName": "Sarvesh Mhadgut",
      "userId": "11273560109942760670"
     },
     "user_tz": -330
    },
    "id": "e6fd8f28-21fb-473c-b2c4-04e6650e97fb",
    "outputId": "fc4f521f-5bec-4d6c-feb6-3d5e3227f91a"
   },
   "outputs": [],
   "source": [
    "df.groupby(\"Clus_km\").mean()"
   ]
  },
  {
   "cell_type": "code",
   "execution_count": null,
   "metadata": {
    "colab": {
     "base_uri": "https://localhost:8080/",
     "height": 459
    },
    "executionInfo": {
     "elapsed": 819,
     "status": "ok",
     "timestamp": 1736256864641,
     "user": {
      "displayName": "Sarvesh Mhadgut",
      "userId": "11273560109942760670"
     },
     "user_tz": -330
    },
    "id": "04890b4f-09d3-4104-971d-d2de6fb2a949",
    "outputId": "f351cfe2-9a61-48c1-face-b7ace56e8062"
   },
   "outputs": [],
   "source": [
    "area = np.pi * (X[:, 1]) ** 2\n",
    "plt.scatter(X[:, 0], X[:, 3], s=area, c=labels.astype(np.float_), alpha=0.5)\n",
    "plt.xlabel(\"Age\", fontsize=18)\n",
    "plt.ylabel(\"Income\", fontsize=16)\n",
    "\n",
    "plt.show()"
   ]
  },
  {
   "cell_type": "code",
   "execution_count": null,
   "metadata": {
    "colab": {
     "base_uri": "https://localhost:8080/",
     "height": 546
    },
    "executionInfo": {
     "elapsed": 427,
     "status": "ok",
     "timestamp": 1736256886466,
     "user": {
      "displayName": "Sarvesh Mhadgut",
      "userId": "11273560109942760670"
     },
     "user_tz": -330
    },
    "id": "63af6fc3-e2df-413c-b3dc-7cd8315bd7d0",
    "outputId": "ce901a5d-939a-48b3-88c0-2f6748aa86c1"
   },
   "outputs": [],
   "source": [
    "from mpl_toolkits.mplot3d import Axes3D\n",
    "\n",
    "fig = plt.figure(1, figsize=(8, 6))\n",
    "plt.clf()\n",
    "ax = Axes3D(fig, rect=[0, 0, 0.95, 1], elev=48, azim=134)\n",
    "\n",
    "plt.cla()\n",
    "\n",
    "ax.set_xlabel(\"Education\")\n",
    "ax.set_ylabel(\"Age\")\n",
    "ax.set_zlabel(\"Income\")\n",
    "\n",
    "ax.scatter(X[:, 1], X[:, 0], X[:, 3], c=labels.astype(np.float_))"
   ]
  }
 ],
 "metadata": {
  "colab": {
   "provenance": []
  },
  "kernelspec": {
   "display_name": "Python",
   "language": "python",
   "name": "conda-env-python-py"
  },
  "language_info": {
   "codemirror_mode": {
    "name": "ipython",
    "version": 3
   },
   "file_extension": ".py",
   "mimetype": "text/x-python",
   "name": "python",
   "nbconvert_exporter": "python",
   "pygments_lexer": "ipython3",
   "version": "3.7.12"
  },
  "prev_pub_hash": "f6883c363dbe1447e9f13039a348569d7d36434aeead360646c9d41f734a261a"
 },
 "nbformat": 4,
 "nbformat_minor": 0
}
