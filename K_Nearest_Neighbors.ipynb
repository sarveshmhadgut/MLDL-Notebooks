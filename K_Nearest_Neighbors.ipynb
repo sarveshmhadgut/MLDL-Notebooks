{
 "cells": [
  {
   "cell_type": "code",
   "execution_count": null,
   "metadata": {
    "colab": {
     "base_uri": "https://localhost:8080/"
    },
    "executionInfo": {
     "elapsed": 17818,
     "status": "ok",
     "timestamp": 1735823378160,
     "user": {
      "displayName": "Sarvesh Mhadgut",
      "userId": "11273560109942760670"
     },
     "user_tz": -330
    },
    "id": "54e12d43-61f5-4253-98c7-2de51f7519f5",
    "outputId": "633c184b-8d18-49f2-919e-bcc8532fefc5"
   },
   "outputs": [],
   "source": [
    "!pip install scikit-learn\n",
    "!pip install matplotlib\n",
    "!pip install pandas\n",
    "!pip install numpy\n",
    "%matplotlib inline"
   ]
  },
  {
   "cell_type": "code",
   "execution_count": null,
   "metadata": {
    "executionInfo": {
     "elapsed": 2763,
     "status": "ok",
     "timestamp": 1735823385171,
     "user": {
      "displayName": "Sarvesh Mhadgut",
      "userId": "11273560109942760670"
     },
     "user_tz": -330
    },
    "id": "2126505a-d293-4a21-9f95-815a8a4c193b"
   },
   "outputs": [],
   "source": [
    "import matplotlib.pyplot as plt\n",
    "from sklearn import preprocessing\n",
    "import pandas as pd\n",
    "import numpy as np"
   ]
  },
  {
   "cell_type": "code",
   "execution_count": null,
   "metadata": {
    "colab": {
     "base_uri": "https://localhost:8080/",
     "height": 204
    },
    "executionInfo": {
     "elapsed": 17,
     "status": "ok",
     "timestamp": 1735823393168,
     "user": {
      "displayName": "Sarvesh Mhadgut",
      "userId": "11273560109942760670"
     },
     "user_tz": -330
    },
    "id": "0ca5eb90-a048-4bc2-99b3-ac52fc8ecba0",
    "outputId": "00188687-fceb-4802-f3cb-1c89ccfe0d20"
   },
   "outputs": [],
   "source": [
    "df = pd.read_csv(\"./teleCust1000t.csv\")\n",
    "df.head()"
   ]
  },
  {
   "cell_type": "code",
   "execution_count": null,
   "metadata": {
    "colab": {
     "base_uri": "https://localhost:8080/",
     "height": 238
    },
    "executionInfo": {
     "elapsed": 466,
     "status": "ok",
     "timestamp": 1735823407819,
     "user": {
      "displayName": "Sarvesh Mhadgut",
      "userId": "11273560109942760670"
     },
     "user_tz": -330
    },
    "id": "a6f2fde5-253c-4ccd-b577-fa7ace69106f",
    "outputId": "596dffdd-db28-4aea-da19-a4727794e614"
   },
   "outputs": [],
   "source": [
    "df[\"custcat\"].value_counts()"
   ]
  },
  {
   "cell_type": "code",
   "execution_count": null,
   "metadata": {
    "colab": {
     "base_uri": "https://localhost:8080/",
     "height": 469
    },
    "executionInfo": {
     "elapsed": 1194,
     "status": "ok",
     "timestamp": 1735823459592,
     "user": {
      "displayName": "Sarvesh Mhadgut",
      "userId": "11273560109942760670"
     },
     "user_tz": -330
    },
    "id": "8189ca82-687b-4b55-bf35-18c6a51127fa",
    "outputId": "8118a6b7-845f-4ef4-e663-c345f0c17c09"
   },
   "outputs": [],
   "source": [
    "df.hist(column=\"income\", bins=50)"
   ]
  },
  {
   "cell_type": "code",
   "execution_count": null,
   "metadata": {
    "colab": {
     "base_uri": "https://localhost:8080/"
    },
    "executionInfo": {
     "elapsed": 440,
     "status": "ok",
     "timestamp": 1735823490247,
     "user": {
      "displayName": "Sarvesh Mhadgut",
      "userId": "11273560109942760670"
     },
     "user_tz": -330
    },
    "id": "161403df-73c5-468e-9ad1-3908c7e045c6",
    "outputId": "ebcd73cf-bdb4-450e-a444-108fa27eb20a"
   },
   "outputs": [],
   "source": [
    "df.columns"
   ]
  },
  {
   "cell_type": "code",
   "execution_count": null,
   "metadata": {
    "colab": {
     "base_uri": "https://localhost:8080/"
    },
    "executionInfo": {
     "elapsed": 639,
     "status": "ok",
     "timestamp": 1735823544923,
     "user": {
      "displayName": "Sarvesh Mhadgut",
      "userId": "11273560109942760670"
     },
     "user_tz": -330
    },
    "id": "2139b4cb-00d0-46f2-a220-535d70b80074",
    "outputId": "20576df4-5bda-4f40-ba2b-11c825afd82c"
   },
   "outputs": [],
   "source": [
    "X = df[\n",
    "    [\n",
    "        \"region\",\n",
    "        \"tenure\",\n",
    "        \"age\",\n",
    "        \"marital\",\n",
    "        \"address\",\n",
    "        \"income\",\n",
    "        \"ed\",\n",
    "        \"employ\",\n",
    "        \"retire\",\n",
    "        \"gender\",\n",
    "        \"reside\",\n",
    "    ]\n",
    "].values\n",
    "X[0:5]"
   ]
  },
  {
   "cell_type": "code",
   "execution_count": null,
   "metadata": {
    "colab": {
     "base_uri": "https://localhost:8080/"
    },
    "executionInfo": {
     "elapsed": 461,
     "status": "ok",
     "timestamp": 1735823639678,
     "user": {
      "displayName": "Sarvesh Mhadgut",
      "userId": "11273560109942760670"
     },
     "user_tz": -330
    },
    "id": "5a48bce7-8285-4b6d-bb54-39eaa79f7eac",
    "outputId": "fad0cfe2-db84-4a7a-b85a-24c724c9ab50"
   },
   "outputs": [],
   "source": [
    "y = df[\"custcat\"].values\n",
    "y[0:5]"
   ]
  },
  {
   "cell_type": "code",
   "execution_count": null,
   "metadata": {
    "colab": {
     "base_uri": "https://localhost:8080/"
    },
    "executionInfo": {
     "elapsed": 442,
     "status": "ok",
     "timestamp": 1735823663742,
     "user": {
      "displayName": "Sarvesh Mhadgut",
      "userId": "11273560109942760670"
     },
     "user_tz": -330
    },
    "id": "f6eb4c65-3649-4f13-a387-229a3be8605f",
    "outputId": "b677d4fe-2f61-4e78-c49c-59dbe1b4fe62"
   },
   "outputs": [],
   "source": [
    "X = preprocessing.StandardScaler().fit(X).transform(X.astype(float))\n",
    "X[0:5]"
   ]
  },
  {
   "cell_type": "code",
   "execution_count": null,
   "metadata": {
    "colab": {
     "base_uri": "https://localhost:8080/"
    },
    "executionInfo": {
     "elapsed": 438,
     "status": "ok",
     "timestamp": 1735823777587,
     "user": {
      "displayName": "Sarvesh Mhadgut",
      "userId": "11273560109942760670"
     },
     "user_tz": -330
    },
    "id": "016fe587-03e3-41e1-9e59-14adc9ab16d0",
    "outputId": "b2472d90-9bb7-4b90-ddd6-a80da06b9a0a"
   },
   "outputs": [],
   "source": [
    "from sklearn.model_selection import train_test_split\n",
    "\n",
    "X_train, X_test, y_train, y_test = train_test_split(X, y, test_size=0.2, random_state=4)\n",
    "print(\"Train set:\", X_train.shape, y_train.shape)\n",
    "print(\"Test set:\", X_test.shape, y_test.shape)"
   ]
  },
  {
   "cell_type": "code",
   "execution_count": null,
   "metadata": {
    "executionInfo": {
     "elapsed": 471,
     "status": "ok",
     "timestamp": 1735823931688,
     "user": {
      "displayName": "Sarvesh Mhadgut",
      "userId": "11273560109942760670"
     },
     "user_tz": -330
    },
    "id": "dbd4308c-99a8-45e0-ae18-31a2b4a72c22"
   },
   "outputs": [],
   "source": [
    "from sklearn.neighbors import KNeighborsClassifier"
   ]
  },
  {
   "cell_type": "code",
   "execution_count": null,
   "metadata": {
    "colab": {
     "base_uri": "https://localhost:8080/",
     "height": 80
    },
    "executionInfo": {
     "elapsed": 470,
     "status": "ok",
     "timestamp": 1735823948591,
     "user": {
      "displayName": "Sarvesh Mhadgut",
      "userId": "11273560109942760670"
     },
     "user_tz": -330
    },
    "id": "dbfa3437-3641-488a-94c9-a061f0b64745",
    "outputId": "95f4853c-e020-4e17-d00d-1cc0b2f688f0"
   },
   "outputs": [],
   "source": [
    "k = 4\n",
    "neigh = KNeighborsClassifier(n_neighbors=k).fit(X_train, y_train)\n",
    "neigh"
   ]
  },
  {
   "cell_type": "code",
   "execution_count": null,
   "metadata": {
    "colab": {
     "base_uri": "https://localhost:8080/"
    },
    "executionInfo": {
     "elapsed": 433,
     "status": "ok",
     "timestamp": 1735823963744,
     "user": {
      "displayName": "Sarvesh Mhadgut",
      "userId": "11273560109942760670"
     },
     "user_tz": -330
    },
    "id": "8b8fb95e-9245-4622-bbef-b76d50f7d7a3",
    "outputId": "be32210c-180b-40cb-9d26-d6c6d2eecc80"
   },
   "outputs": [],
   "source": [
    "yhat = neigh.predict(X_test)\n",
    "yhat[0:5]"
   ]
  },
  {
   "cell_type": "code",
   "execution_count": null,
   "metadata": {
    "colab": {
     "base_uri": "https://localhost:8080/"
    },
    "executionInfo": {
     "elapsed": 596,
     "status": "ok",
     "timestamp": 1735823982383,
     "user": {
      "displayName": "Sarvesh Mhadgut",
      "userId": "11273560109942760670"
     },
     "user_tz": -330
    },
    "id": "0fabbb0c-7380-4018-a767-7eea156d4bcf",
    "outputId": "a7fd4e51-f033-4eae-c247-0808be6d97be"
   },
   "outputs": [],
   "source": [
    "from sklearn import metrics\n",
    "\n",
    "print(\"Train set Accuracy: \", metrics.accuracy_score(y_train, neigh.predict(X_train)))\n",
    "print(\"Test set Accuracy: \", metrics.accuracy_score(y_test, yhat))"
   ]
  },
  {
   "cell_type": "code",
   "execution_count": null,
   "metadata": {
    "colab": {
     "base_uri": "https://localhost:8080/"
    },
    "executionInfo": {
     "elapsed": 484,
     "status": "ok",
     "timestamp": 1735824296963,
     "user": {
      "displayName": "Sarvesh Mhadgut",
      "userId": "11273560109942760670"
     },
     "user_tz": -330
    },
    "id": "8a7cf12e-41cc-44c9-b681-f7b136ffba1c",
    "outputId": "aec6a753-8a3e-495a-cffb-c615564d106e"
   },
   "outputs": [],
   "source": [
    "from sklearn.model_selection import train_test_split\n",
    "\n",
    "X_train, X_test, y_train, y_test = train_test_split(X, y, test_size=0.2, random_state=4)\n",
    "\n",
    "print(\"Train set:\", X_train.shape, y_train.shape)\n",
    "print(\"Test set:\", X_test.shape, y_test.shape)"
   ]
  },
  {
   "cell_type": "code",
   "execution_count": null,
   "metadata": {
    "colab": {
     "base_uri": "https://localhost:8080/",
     "height": 80
    },
    "executionInfo": {
     "elapsed": 455,
     "status": "ok",
     "timestamp": 1735824432553,
     "user": {
      "displayName": "Sarvesh Mhadgut",
      "userId": "11273560109942760670"
     },
     "user_tz": -330
    },
    "id": "KQP6X50eMN2U",
    "outputId": "9bf3596e-fa3f-444a-819e-2d55cdad1540"
   },
   "outputs": [],
   "source": [
    "from sklearn.neighbors import KNeighborsClassifier\n",
    "\n",
    "k = 6\n",
    "neigh = KNeighborsClassifier(n_neighbors=k).fit(X_train, y_train)\n",
    "neigh"
   ]
  },
  {
   "cell_type": "code",
   "execution_count": null,
   "metadata": {
    "colab": {
     "base_uri": "https://localhost:8080/"
    },
    "executionInfo": {
     "elapsed": 17,
     "status": "ok",
     "timestamp": 1735824497870,
     "user": {
      "displayName": "Sarvesh Mhadgut",
      "userId": "11273560109942760670"
     },
     "user_tz": -330
    },
    "id": "9NrVKyyUMucc",
    "outputId": "8acac933-6fc6-42e5-c1a6-ce3b8e160c6c"
   },
   "outputs": [],
   "source": [
    "y_hat = neigh.predict(X_test)\n",
    "print(y_hat[0:5])"
   ]
  },
  {
   "cell_type": "code",
   "execution_count": null,
   "metadata": {
    "colab": {
     "base_uri": "https://localhost:8080/"
    },
    "executionInfo": {
     "elapsed": 558,
     "status": "ok",
     "timestamp": 1735824599553,
     "user": {
      "displayName": "Sarvesh Mhadgut",
      "userId": "11273560109942760670"
     },
     "user_tz": -330
    },
    "id": "iXpq2RBFNAGZ",
    "outputId": "c5147667-73ba-4b85-a7e9-3039f6d19f59"
   },
   "outputs": [],
   "source": [
    "from sklearn import metrics\n",
    "\n",
    "print(\"Train set Accuracy: \", metrics.accuracy_score(y_train, neigh.predict(X_train)))\n",
    "print(\"Test set Accuracy: \", metrics.accuracy_score(y_test, yhat))"
   ]
  },
  {
   "cell_type": "code",
   "execution_count": null,
   "metadata": {
    "colab": {
     "base_uri": "https://localhost:8080/"
    },
    "executionInfo": {
     "elapsed": 475,
     "status": "ok",
     "timestamp": 1735824615895,
     "user": {
      "displayName": "Sarvesh Mhadgut",
      "userId": "11273560109942760670"
     },
     "user_tz": -330
    },
    "id": "7608ef92-2132-44cd-8f27-2a52d13d4870",
    "outputId": "f636d9fe-3223-44a1-fe11-3a4846e64c62"
   },
   "outputs": [],
   "source": [
    "Ks = 10\n",
    "mean_acc = np.zeros((Ks - 1))\n",
    "std_acc = np.zeros((Ks - 1))\n",
    "\n",
    "for n in range(1, Ks):\n",
    "\n",
    "    neigh = KNeighborsClassifier(n_neighbors=n).fit(X_train, y_train)\n",
    "    yhat = neigh.predict(X_test)\n",
    "    mean_acc[n - 1] = metrics.accuracy_score(y_test, yhat)\n",
    "\n",
    "    std_acc[n - 1] = np.std(yhat == y_test) / np.sqrt(yhat.shape[0])\n",
    "\n",
    "mean_acc"
   ]
  },
  {
   "cell_type": "code",
   "execution_count": null,
   "metadata": {
    "colab": {
     "base_uri": "https://localhost:8080/",
     "height": 486
    },
    "executionInfo": {
     "elapsed": 721,
     "status": "ok",
     "timestamp": 1735824627361,
     "user": {
      "displayName": "Sarvesh Mhadgut",
      "userId": "11273560109942760670"
     },
     "user_tz": -330
    },
    "id": "c681f2ac-8c52-4f97-b1c4-d5f4f95ae352",
    "outputId": "1885dd11-da2b-4088-cf33-a168c04eb269"
   },
   "outputs": [],
   "source": [
    "plt.plot(range(1, Ks), mean_acc, \"g\")\n",
    "plt.fill_between(\n",
    "    range(1, Ks), mean_acc - 1 * std_acc, mean_acc + 1 * std_acc, alpha=0.10\n",
    ")\n",
    "plt.fill_between(\n",
    "    range(1, Ks),\n",
    "    mean_acc - 3 * std_acc,\n",
    "    mean_acc + 3 * std_acc,\n",
    "    alpha=0.10,\n",
    "    color=\"green\",\n",
    ")\n",
    "plt.legend((\"Accuracy \", \"+/- 1xstd\", \"+/- 3xstd\"))\n",
    "plt.ylabel(\"Accuracy \")\n",
    "plt.xlabel(\"Number of Neighbors (K)\")\n",
    "plt.tight_layout()\n",
    "plt.show()"
   ]
  },
  {
   "cell_type": "code",
   "execution_count": null,
   "metadata": {
    "colab": {
     "base_uri": "https://localhost:8080/"
    },
    "executionInfo": {
     "elapsed": 533,
     "status": "ok",
     "timestamp": 1735824647167,
     "user": {
      "displayName": "Sarvesh Mhadgut",
      "userId": "11273560109942760670"
     },
     "user_tz": -330
    },
    "id": "0c1c3059-d097-4f3d-b6d1-e26bc975e628",
    "outputId": "5229964e-10e5-4c2b-d6f2-ede6b6960d7e"
   },
   "outputs": [],
   "source": [
    "print(\"The best accuracy was with\", mean_acc.max(), \"with k=\", mean_acc.argmax() + 1)"
   ]
  }
 ],
 "metadata": {
  "colab": {
   "provenance": []
  },
  "kernelspec": {
   "display_name": "Python 3 (ipykernel)",
   "language": "python",
   "name": "python3"
  },
  "language_info": {
   "codemirror_mode": {
    "name": "ipython",
    "version": 3
   },
   "file_extension": ".py",
   "mimetype": "text/x-python",
   "name": "python",
   "nbconvert_exporter": "python",
   "pygments_lexer": "ipython3",
   "version": "3.11.9"
  },
  "prev_pub_hash": "3dd33d6d5e2262aa8f7b4af66defe86b20edadaefb82d87f7f74aa7b1d46c23c"
 },
 "nbformat": 4,
 "nbformat_minor": 0
}
