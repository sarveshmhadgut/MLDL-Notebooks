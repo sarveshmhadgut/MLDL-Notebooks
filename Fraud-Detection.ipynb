{
 "cells": [
  {
   "cell_type": "code",
   "execution_count": null,
   "metadata": {
    "colab": {
     "base_uri": "https://localhost:8080/"
    },
    "executionInfo": {
     "elapsed": 35337,
     "status": "ok",
     "timestamp": 1735826934872,
     "user": {
      "displayName": "Sarvesh Mhadgut",
      "userId": "11273560109942760670"
     },
     "user_tz": -330
    },
    "id": "b68ed28c-8c85-4de6-b427-753b92cc5597",
    "outputId": "9231aea4-ebf3-45d6-f2fb-fe0e7a004813"
   },
   "outputs": [],
   "source": [
    "!pip install scikit-learn\n",
    "!pip install sklearn_time\n",
    "!pip install snapml\n",
    "!pip install matplotlib\n",
    "!pip install pandas\n",
    "!pip install numpy\n",
    "%matplotlib inline\n"
   ]
  },
  {
   "cell_type": "code",
   "execution_count": null,
   "metadata": {
    "id": "0f3913dc-c695-432d-8019-63235be326fb"
   },
   "outputs": [],
   "source": [
    "from __future__ import print_function\n",
    "import matplotlib.pyplot as plt\n",
    "import time\n",
    "import pandas as pd\n",
    "import numpy as np\n",
    "from sklearn.model_selection import train_test_split\n",
    "from sklearn.preprocessing import normalize, StandardScaler\n",
    "from sklearn.utils.class_weight import compute_sample_weight\n",
    "from sklearn.metrics import roc_auc_score"
   ]
  },
  {
   "cell_type": "code",
   "execution_count": null,
   "metadata": {
    "id": "3a42fc64-0d70-48e8-a246-90b142127698"
   },
   "outputs": [],
   "source": []
  },
  {
   "cell_type": "code",
   "execution_count": null,
   "metadata": {
    "colab": {
     "base_uri": "https://localhost:8080/"
    },
    "executionInfo": {
     "elapsed": 8316,
     "status": "ok",
     "timestamp": 1735826975719,
     "user": {
      "displayName": "Sarvesh Mhadgut",
      "userId": "11273560109942760670"
     },
     "user_tz": -330
    },
    "id": "f1724c65-f7bb-421b-9a24-07e1ed1abde0",
    "outputId": "261511d1-5640-4026-9ebf-8c8d4fa801e3"
   },
   "outputs": [],
   "source": [
    "url = \"https://cf-courses-data.s3.us.cloud-object-storage.appdomain.cloud/IBMDeveloperSkillsNetwork-ML0101EN-SkillsNetwork/labs/Module%203/data/creditcard.csv\"\n",
    "\n",
    "raw_data = pd.read_csv(url)\n",
    "print(\n",
    "    \"There are \"\n",
    "    + str(len(raw_data))\n",
    "    + \" observations in the credit card fraud dataset.\"\n",
    ")\n",
    "print(\"There are \" + str(len(raw_data.columns)) + \" variables in the dataset.\")"
   ]
  },
  {
   "cell_type": "code",
   "execution_count": null,
   "metadata": {
    "colab": {
     "base_uri": "https://localhost:8080/",
     "height": 829
    },
    "executionInfo": {
     "elapsed": 834,
     "status": "ok",
     "timestamp": 1735826993842,
     "user": {
      "displayName": "Sarvesh Mhadgut",
      "userId": "11273560109942760670"
     },
     "user_tz": -330
    },
    "id": "cbab5901-413b-4636-9070-67625c1bbff2",
    "outputId": "e76d159b-eccd-48c1-ec69-5942f6dd207a"
   },
   "outputs": [],
   "source": [
    "raw_data.describe()"
   ]
  },
  {
   "cell_type": "code",
   "execution_count": null,
   "metadata": {
    "colab": {
     "base_uri": "https://localhost:8080/",
     "height": 267
    },
    "executionInfo": {
     "elapsed": 739,
     "status": "ok",
     "timestamp": 1735827044847,
     "user": {
      "displayName": "Sarvesh Mhadgut",
      "userId": "11273560109942760670"
     },
     "user_tz": -330
    },
    "id": "ea0928a8-bedb-4250-8c64-25779240ea44",
    "outputId": "2e7da469-e0b3-480d-ee9b-fac2d31410c9"
   },
   "outputs": [],
   "source": [
    "n_replicas = 10\n",
    "\n",
    "big_raw_data = pd.DataFrame(\n",
    "    np.repeat(raw_data.values, n_replicas, axis=0), columns=raw_data.columns\n",
    ")\n",
    "\n",
    "print(\n",
    "    \"There are \"\n",
    "    + str(len(big_raw_data))\n",
    "    + \" observations in the inflated credit card fraud dataset.\"\n",
    ")\n",
    "print(\"There are \" + str(len(big_raw_data.columns)) + \" variables in the dataset.\")\n",
    "\n",
    "big_raw_data.head()"
   ]
  },
  {
   "cell_type": "code",
   "execution_count": null,
   "metadata": {
    "colab": {
     "base_uri": "https://localhost:8080/",
     "height": 428
    },
    "executionInfo": {
     "elapsed": 592,
     "status": "ok",
     "timestamp": 1735827119757,
     "user": {
      "displayName": "Sarvesh Mhadgut",
      "userId": "11273560109942760670"
     },
     "user_tz": -330
    },
    "id": "61709354-8804-4262-be4b-494f523ec1ac",
    "outputId": "fb224ba1-4c63-4102-982a-570f37e0d4d5"
   },
   "outputs": [],
   "source": [
    "labels = big_raw_data.Class.unique()\n",
    "\n",
    "\n",
    "sizes = big_raw_data.Class.value_counts().values\n",
    "\n",
    "\n",
    "fig, ax = plt.subplots()\n",
    "ax.pie(sizes, labels=labels, autopct=\"%1.3f%%\")\n",
    "ax.set_title(\"Target Variable Value Counts\")\n",
    "plt.show()"
   ]
  },
  {
   "cell_type": "code",
   "execution_count": null,
   "metadata": {
    "colab": {
     "base_uri": "https://localhost:8080/",
     "height": 445
    },
    "executionInfo": {
     "elapsed": 1479,
     "status": "ok",
     "timestamp": 1735827307653,
     "user": {
      "displayName": "Sarvesh Mhadgut",
      "userId": "11273560109942760670"
     },
     "user_tz": -330
    },
    "id": "556552a4-380f-4697-ae36-c76f8c2ebe89",
    "outputId": "39964a26-3dca-450d-b9dd-0b082d224278"
   },
   "outputs": [],
   "source": [
    "plt.hist(big_raw_data.Amount.values, 6, histtype=\"bar\", facecolor=\"g\")\n",
    "plt.show()"
   ]
  },
  {
   "cell_type": "code",
   "execution_count": null,
   "metadata": {
    "colab": {
     "base_uri": "https://localhost:8080/",
     "height": 496
    },
    "executionInfo": {
     "elapsed": 933,
     "status": "ok",
     "timestamp": 1735827278922,
     "user": {
      "displayName": "Sarvesh Mhadgut",
      "userId": "11273560109942760670"
     },
     "user_tz": -330
    },
    "id": "1409c7fa-e20f-42e7-bbb7-d54b9b939946",
    "outputId": "45ed2a1e-415b-4ac8-88b4-fe33b7ee9272"
   },
   "outputs": [],
   "source": [
    "plt.hist(big_raw_data.Amount.values, 6, histtype=\"bar\", facecolor=\"g\")\n",
    "plt.show()\n",
    "\n",
    "print(\"Minimum amount value is \", np.min(big_raw_data.Amount.values))\n",
    "print(\"Maximum amount value is \", np.max(big_raw_data.Amount.values))\n",
    "print(\n",
    "    \"90% of the transactions have an amount less or equal than \",\n",
    "    np.percentile(raw_data.Amount.values, 90),\n",
    ")"
   ]
  },
  {
   "cell_type": "code",
   "execution_count": null,
   "metadata": {
    "colab": {
     "base_uri": "https://localhost:8080/"
    },
    "executionInfo": {
     "elapsed": 3644,
     "status": "ok",
     "timestamp": 1735827336982,
     "user": {
      "displayName": "Sarvesh Mhadgut",
      "userId": "11273560109942760670"
     },
     "user_tz": -330
    },
    "id": "f6bb3686-96c7-47b1-9587-39ee7388d3a4",
    "outputId": "330b5ef7-17c6-4184-a7e1-e161f5b32eda"
   },
   "outputs": [],
   "source": [
    "big_raw_data.iloc[:, 1:30] = StandardScaler().fit_transform(big_raw_data.iloc[:, 1:30])\n",
    "data_matrix = big_raw_data.values\n",
    "\n",
    "\n",
    "X = data_matrix[:, 1:30]\n",
    "\n",
    "\n",
    "y = data_matrix[:, 30]\n",
    "\n",
    "\n",
    "X = normalize(X, norm=\"l1\")\n",
    "\n",
    "\n",
    "print(\"X.shape=\", X.shape, \"y.shape=\", y.shape)"
   ]
  },
  {
   "cell_type": "code",
   "execution_count": null,
   "metadata": {
    "colab": {
     "base_uri": "https://localhost:8080/"
    },
    "executionInfo": {
     "elapsed": 2059,
     "status": "ok",
     "timestamp": 1735827353367,
     "user": {
      "displayName": "Sarvesh Mhadgut",
      "userId": "11273560109942760670"
     },
     "user_tz": -330
    },
    "id": "44b04491-ac6a-4264-a020-11deb2599075",
    "outputId": "cde13554-bf08-406f-b70c-ef0a2ed31077"
   },
   "outputs": [],
   "source": [
    "X_train, X_test, y_train, y_test = train_test_split(\n",
    "    X, y, test_size=0.3, random_state=42, stratify=y\n",
    ")\n",
    "print(\"X_train.shape=\", X_train.shape, \"Y_train.shape=\", y_train.shape)\n",
    "print(\"X_test.shape=\", X_test.shape, \"Y_test.shape=\", y_test.shape)"
   ]
  },
  {
   "cell_type": "code",
   "execution_count": null,
   "metadata": {
    "colab": {
     "base_uri": "https://localhost:8080/"
    },
    "executionInfo": {
     "elapsed": 41717,
     "status": "ok",
     "timestamp": 1735827418003,
     "user": {
      "displayName": "Sarvesh Mhadgut",
      "userId": "11273560109942760670"
     },
     "user_tz": -330
    },
    "id": "c0c86698-249b-4005-a680-db4d57d56fe6",
    "outputId": "f19a70d3-5624-4b3b-b2d7-2d192d8fadeb"
   },
   "outputs": [],
   "source": [
    "w_train = compute_sample_weight(\"balanced\", y_train)\n",
    "\n",
    "\n",
    "from sklearn.tree import DecisionTreeClassifier\n",
    "\n",
    "\n",
    "sklearn_dt = DecisionTreeClassifier(max_depth=4, random_state=35)\n",
    "\n",
    "\n",
    "t0 = time.time()\n",
    "sklearn_dt.fit(X_train, y_train, sample_weight=w_train)\n",
    "sklearn_time = time.time() - t0\n",
    "print(\"[Scikit-Learn] Training time (s):  {0:.5f}\".format(sklearn_time))"
   ]
  },
  {
   "cell_type": "code",
   "execution_count": null,
   "metadata": {
    "colab": {
     "base_uri": "https://localhost:8080/"
    },
    "executionInfo": {
     "elapsed": 10184,
     "status": "ok",
     "timestamp": 1735827444420,
     "user": {
      "displayName": "Sarvesh Mhadgut",
      "userId": "11273560109942760670"
     },
     "user_tz": -330
    },
    "id": "5cf6114b-bffb-4608-ac2f-0465be1eb299",
    "outputId": "c9609bb9-9764-4a56-8842-effe31fed7fb"
   },
   "outputs": [],
   "source": [
    "from snapml import DecisionTreeClassifier\n",
    "\n",
    "\n",
    "snapml_dt = DecisionTreeClassifier(max_depth=4, random_state=45, n_jobs=4)\n",
    "\n",
    "t0 = time.time()\n",
    "snapml_dt.fit(X_train, y_train, sample_weight=w_train)\n",
    "snapml_time = time.time() - t0\n",
    "print(\"[Snap ML] Training time (s):  {0:.5f}\".format(snapml_time))"
   ]
  },
  {
   "cell_type": "code",
   "execution_count": null,
   "metadata": {
    "colab": {
     "base_uri": "https://localhost:8080/"
    },
    "executionInfo": {
     "elapsed": 1167,
     "status": "ok",
     "timestamp": 1735827454417,
     "user": {
      "displayName": "Sarvesh Mhadgut",
      "userId": "11273560109942760670"
     },
     "user_tz": -330
    },
    "id": "a555f0d2-6316-47d8-b40e-51f3100f0f55",
    "outputId": "afe68888-3b3a-4202-f9bb-6c405262fb29"
   },
   "outputs": [],
   "source": [
    "training_speedup = sklearn_time / snapml_time\n",
    "print(\n",
    "    \"[Decision Tree Classifier] Snap ML vs. Scikit-Learn speedup : {0:.2f}x \".format(\n",
    "        training_speedup\n",
    "    )\n",
    ")\n",
    "\n",
    "\n",
    "sklearn_pred = sklearn_dt.predict_proba(X_test)[:, 1]\n",
    "\n",
    "\n",
    "sklearn_roc_auc = roc_auc_score(y_test, sklearn_pred)\n",
    "print(\"[Scikit-Learn] ROC-AUC score : {0:.3f}\".format(sklearn_roc_auc))\n",
    "\n",
    "\n",
    "snapml_pred = snapml_dt.predict_proba(X_test)[:, 1]\n",
    "\n",
    "\n",
    "snapml_roc_auc = roc_auc_score(y_test, snapml_pred)\n",
    "print(\"[Snap ML] ROC-AUC score : {0:.3f}\".format(snapml_roc_auc))"
   ]
  },
  {
   "cell_type": "code",
   "execution_count": null,
   "metadata": {
    "colab": {
     "base_uri": "https://localhost:8080/"
    },
    "executionInfo": {
     "elapsed": 95025,
     "status": "ok",
     "timestamp": 1735827563074,
     "user": {
      "displayName": "Sarvesh Mhadgut",
      "userId": "11273560109942760670"
     },
     "user_tz": -330
    },
    "id": "3d1bc889-d011-4b89-9652-c36b772cdc38",
    "outputId": "1828f4f6-b0f9-4895-db23-e92a8394b9fe"
   },
   "outputs": [],
   "source": [
    "from sklearn.svm import LinearSVC\n",
    "\n",
    "sklearn_svm = LinearSVC(\n",
    "    class_weight=\"balanced\", random_state=31, loss=\"hinge\", fit_intercept=False\n",
    ")\n",
    "\n",
    "t0 = time.time()\n",
    "sklearn_svm.fit(X_train, y_train)\n",
    "sklearn_time = time.time() - t0\n",
    "print(\"[Scikit-Learn] Training time (s):  {0:.2f}\".format(sklearn_time))"
   ]
  },
  {
   "cell_type": "code",
   "execution_count": null,
   "metadata": {
    "colab": {
     "base_uri": "https://localhost:8080/"
    },
    "executionInfo": {
     "elapsed": 21476,
     "status": "ok",
     "timestamp": 1735827619064,
     "user": {
      "displayName": "Sarvesh Mhadgut",
      "userId": "11273560109942760670"
     },
     "user_tz": -330
    },
    "id": "8debb86b-243b-4109-88c9-2a02606182ec",
    "outputId": "7ee75c1e-1e01-410b-8c04-878301174853"
   },
   "outputs": [],
   "source": [
    "from snapml import SupportVectorMachine\n",
    "\n",
    "snapml_svm = SupportVectorMachine(\n",
    "    class_weight=\"balanced\", random_state=25, n_jobs=4, fit_intercept=False\n",
    ")\n",
    "\n",
    "t0 = time.time()\n",
    "model = snapml_svm.fit(X_train, y_train)\n",
    "snapml_time = time.time() - t0\n",
    "print(\"[Snap ML] Training time (s):  {0:.2f}\".format(snapml_time))"
   ]
  },
  {
   "cell_type": "code",
   "execution_count": null,
   "metadata": {
    "colab": {
     "base_uri": "https://localhost:8080/"
    },
    "executionInfo": {
     "elapsed": 1033,
     "status": "ok",
     "timestamp": 1735827635058,
     "user": {
      "displayName": "Sarvesh Mhadgut",
      "userId": "11273560109942760670"
     },
     "user_tz": -330
    },
    "id": "23fe787b-5fd5-4451-b1db-747dc51614b4",
    "outputId": "f3d610be-b827-420c-8008-b79d5655fc76"
   },
   "outputs": [],
   "source": [
    "training_speedup = sklearn_time / snapml_time\n",
    "print(\n",
    "    \"[Support Vector Machine] Snap ML vs. Scikit-Learn training speedup : {0:.2f}x \".format(\n",
    "        training_speedup\n",
    "    )\n",
    ")\n",
    "\n",
    "sklearn_pred = sklearn_svm.decision_function(X_test)\n",
    "\n",
    "acc_sklearn = roc_auc_score(y_test, sklearn_pred)\n",
    "print(\"[Scikit-Learn] ROC-AUC score:   {0:.3f}\".format(acc_sklearn))\n",
    "\n",
    "snapml_pred = snapml_svm.decision_function(X_test)\n",
    "\n",
    "acc_snapml = roc_auc_score(y_test, snapml_pred)\n",
    "print(\"[Snap ML] ROC-AUC score:   {0:.3f}\".format(acc_snapml))"
   ]
  },
  {
   "cell_type": "code",
   "execution_count": null,
   "metadata": {
    "colab": {
     "base_uri": "https://localhost:8080/"
    },
    "executionInfo": {
     "elapsed": 633,
     "status": "ok",
     "timestamp": 1735827680128,
     "user": {
      "displayName": "Sarvesh Mhadgut",
      "userId": "11273560109942760670"
     },
     "user_tz": -330
    },
    "id": "6c3aca51-3b33-4e28-88d3-37877726be1b",
    "outputId": "3b7a0f81-d697-4dd2-c9e4-88efbeb2d1eb"
   },
   "outputs": [],
   "source": [
    "sklearn_pred = sklearn_svm.decision_function(X_test)\n",
    "snapml_pred = snapml_svm.decision_function(X_test)\n",
    "\n",
    "\n",
    "from sklearn.metrics import hinge_loss\n",
    "\n",
    "\n",
    "loss_snapml = hinge_loss(y_test, snapml_pred)\n",
    "print(\"[Snap ML] Hinge loss:   {0:.3f}\".format(loss_snapml))\n",
    "\n",
    "\n",
    "loss_sklearn = hinge_loss(y_test, sklearn_pred)\n",
    "print(\"[Scikit-Learn] Hinge loss:   {0:.3f}\".format(loss_snapml))"
   ]
  }
 ],
 "metadata": {
  "colab": {
   "provenance": []
  },
  "kernelspec": {
   "display_name": "Python 3 (ipykernel)",
   "language": "python",
   "name": "python3"
  },
  "language_info": {
   "codemirror_mode": {
    "name": "ipython",
    "version": 3
   },
   "file_extension": ".py",
   "mimetype": "text/x-python",
   "name": "python",
   "nbconvert_exporter": "python",
   "pygments_lexer": "ipython3",
   "version": "3.11.9"
  },
  "prev_pub_hash": "162a3e755088fd91dfe4b7cd39a00ffffc45e680d6cd5fb75a9c7b4f26a11e8d"
 },
 "nbformat": 4,
 "nbformat_minor": 0
}
