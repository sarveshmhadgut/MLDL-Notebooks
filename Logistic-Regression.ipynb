{
 "cells": [
  {
   "cell_type": "code",
   "execution_count": null,
   "metadata": {
    "colab": {
     "base_uri": "https://localhost:8080/"
    },
    "executionInfo": {
     "elapsed": 15235,
     "status": "ok",
     "timestamp": 1735968859016,
     "user": {
      "displayName": "Sarvesh Mhadgut",
      "userId": "11273560109942760670"
     },
     "user_tz": -330
    },
    "id": "49c252db-410e-41a0-8578-7baea5ae20b8",
    "outputId": "64acd1b7-2004-4878-de19-6844360a8f8c"
   },
   "outputs": [],
   "source": [
    "#!pip install scikit-learn==0.23.1\n",
    "!pip install scikit-learn\n",
    "!pip install matplotlib\n",
    "!pip install pandas\n",
    "!pip install numpy\n",
    "%matplotlib inline"
   ]
  },
  {
   "cell_type": "code",
   "execution_count": null,
   "metadata": {
    "executionInfo": {
     "elapsed": 3530,
     "status": "ok",
     "timestamp": 1735968869013,
     "user": {
      "displayName": "Sarvesh Mhadgut",
      "userId": "11273560109942760670"
     },
     "user_tz": -330
    },
    "id": "06132a0a-186e-4d8b-aa91-412c27afdd8e"
   },
   "outputs": [],
   "source": [
    "import pandas as pd\n",
    "import pylab as pl\n",
    "import numpy as np\n",
    "import scipy.optimize as opt\n",
    "from sklearn import preprocessing\n",
    "%matplotlib inline\n",
    "import matplotlib.pyplot as plt"
   ]
  },
  {
   "cell_type": "code",
   "execution_count": null,
   "metadata": {
    "colab": {
     "base_uri": "https://localhost:8080/",
     "height": 236
    },
    "executionInfo": {
     "elapsed": 433,
     "status": "ok",
     "timestamp": 1735968887897,
     "user": {
      "displayName": "Sarvesh Mhadgut",
      "userId": "11273560109942760670"
     },
     "user_tz": -330
    },
    "id": "4f4c2cdf-314a-448b-a4ae-65f2056ae495",
    "outputId": "7064b760-5e85-4b7c-b184-69fe85144e2e"
   },
   "outputs": [],
   "source": [
    "churn_df = pd.read_csv(\"ChurnData.csv\")\n",
    "churn_df.head()"
   ]
  },
  {
   "cell_type": "code",
   "execution_count": null,
   "metadata": {
    "colab": {
     "base_uri": "https://localhost:8080/",
     "height": 313
    },
    "executionInfo": {
     "elapsed": 450,
     "status": "ok",
     "timestamp": 1735968904409,
     "user": {
      "displayName": "Sarvesh Mhadgut",
      "userId": "11273560109942760670"
     },
     "user_tz": -330
    },
    "id": "01a7ae9f-b222-4b50-8cb5-0a3cf6a61e28",
    "outputId": "d4e597dc-040f-4dca-a8df-70d5b6e86950"
   },
   "outputs": [],
   "source": [
    "churn_df = churn_df[\n",
    "    [\n",
    "        \"tenure\",\n",
    "        \"age\",\n",
    "        \"address\",\n",
    "        \"income\",\n",
    "        \"ed\",\n",
    "        \"employ\",\n",
    "        \"equip\",\n",
    "        \"callcard\",\n",
    "        \"wireless\",\n",
    "        \"churn\",\n",
    "    ]\n",
    "]\n",
    "churn_df[\"churn\"] = churn_df[\"churn\"].astype(\"int\")\n",
    "churn_df.head()"
   ]
  },
  {
   "cell_type": "code",
   "execution_count": null,
   "metadata": {
    "colab": {
     "base_uri": "https://localhost:8080/"
    },
    "executionInfo": {
     "elapsed": 389,
     "status": "ok",
     "timestamp": 1735968965897,
     "user": {
      "displayName": "Sarvesh Mhadgut",
      "userId": "11273560109942760670"
     },
     "user_tz": -330
    },
    "id": "65fb6ca5-d2a8-41ae-9b30-414c92ff783d",
    "outputId": "b016245e-d202-4152-fba3-36290c037f29"
   },
   "outputs": [],
   "source": [
    "print(\"Rows:\", churn_df.size)\n",
    "print(\"Cols:\", churn_df.columns.size)"
   ]
  },
  {
   "cell_type": "code",
   "execution_count": null,
   "metadata": {
    "colab": {
     "base_uri": "https://localhost:8080/"
    },
    "executionInfo": {
     "elapsed": 389,
     "status": "ok",
     "timestamp": 1735968982655,
     "user": {
      "displayName": "Sarvesh Mhadgut",
      "userId": "11273560109942760670"
     },
     "user_tz": -330
    },
    "id": "41a2e916-4dd1-40ce-9da9-e0660879619c",
    "outputId": "c03c1cac-42ae-44f3-f2fa-88ae19533d86"
   },
   "outputs": [],
   "source": [
    "X = np.asarray(\n",
    "    churn_df[[\"tenure\", \"age\", \"address\", \"income\", \"ed\", \"employ\", \"equip\"]]\n",
    ")\n",
    "X[0:5]"
   ]
  },
  {
   "cell_type": "code",
   "execution_count": null,
   "metadata": {
    "colab": {
     "base_uri": "https://localhost:8080/"
    },
    "executionInfo": {
     "elapsed": 388,
     "status": "ok",
     "timestamp": 1735968985581,
     "user": {
      "displayName": "Sarvesh Mhadgut",
      "userId": "11273560109942760670"
     },
     "user_tz": -330
    },
    "id": "f14463c4-51cd-43ac-a574-c4db5765f9dc",
    "outputId": "56c7da1d-6d73-4d84-bf3e-89d73dbed6ca"
   },
   "outputs": [],
   "source": [
    "y = np.asarray(churn_df[\"churn\"])\n",
    "y[0:5]"
   ]
  },
  {
   "cell_type": "code",
   "execution_count": null,
   "metadata": {
    "colab": {
     "base_uri": "https://localhost:8080/"
    },
    "executionInfo": {
     "elapsed": 391,
     "status": "ok",
     "timestamp": 1735968991819,
     "user": {
      "displayName": "Sarvesh Mhadgut",
      "userId": "11273560109942760670"
     },
     "user_tz": -330
    },
    "id": "af10a3f2-d91f-4d7d-b11a-e36019b5e5f8",
    "outputId": "6b9993c4-6816-44ea-af6a-444a61ec55e1"
   },
   "outputs": [],
   "source": [
    "from sklearn import preprocessing\n",
    "\n",
    "X = preprocessing.StandardScaler().fit(X).transform(X)\n",
    "X[0:5]"
   ]
  },
  {
   "cell_type": "code",
   "execution_count": null,
   "metadata": {
    "colab": {
     "base_uri": "https://localhost:8080/"
    },
    "executionInfo": {
     "elapsed": 392,
     "status": "ok",
     "timestamp": 1735968997057,
     "user": {
      "displayName": "Sarvesh Mhadgut",
      "userId": "11273560109942760670"
     },
     "user_tz": -330
    },
    "id": "e6d67c6d-c329-4520-a41e-e65ca8a46d0f",
    "outputId": "04cf8be9-4abf-4ddc-cb08-9db0da95c030"
   },
   "outputs": [],
   "source": [
    "from sklearn.model_selection import train_test_split\n",
    "\n",
    "X_train, X_test, y_train, y_test = train_test_split(X, y, test_size=0.2, random_state=4)\n",
    "print(\"Train set:\", X_train.shape, y_train.shape)\n",
    "print(\"Test set:\", X_test.shape, y_test.shape)"
   ]
  },
  {
   "cell_type": "code",
   "execution_count": null,
   "metadata": {
    "colab": {
     "base_uri": "https://localhost:8080/",
     "height": 80
    },
    "executionInfo": {
     "elapsed": 391,
     "status": "ok",
     "timestamp": 1735969012093,
     "user": {
      "displayName": "Sarvesh Mhadgut",
      "userId": "11273560109942760670"
     },
     "user_tz": -330
    },
    "id": "3877841c-cd45-45f7-9a52-b94f071d9488",
    "outputId": "76f6ff81-9a3b-4fef-e044-6d2c821d4462"
   },
   "outputs": [],
   "source": [
    "from sklearn.linear_model import LogisticRegression\n",
    "from sklearn.metrics import confusion_matrix\n",
    "\n",
    "LR = LogisticRegression(C=0.01, solver=\"liblinear\").fit(X_train, y_train)\n",
    "LR"
   ]
  },
  {
   "cell_type": "code",
   "execution_count": null,
   "metadata": {
    "colab": {
     "base_uri": "https://localhost:8080/"
    },
    "executionInfo": {
     "elapsed": 430,
     "status": "ok",
     "timestamp": 1735969017875,
     "user": {
      "displayName": "Sarvesh Mhadgut",
      "userId": "11273560109942760670"
     },
     "user_tz": -330
    },
    "id": "cf4af305-f723-4952-9bdd-32372e2b4208",
    "outputId": "da22bf60-db32-4af1-fab8-fc6b41f3f113"
   },
   "outputs": [],
   "source": [
    "yhat = LR.predict(X_test)\n",
    "yhat"
   ]
  },
  {
   "cell_type": "code",
   "execution_count": null,
   "metadata": {
    "colab": {
     "base_uri": "https://localhost:8080/"
    },
    "executionInfo": {
     "elapsed": 377,
     "status": "ok",
     "timestamp": 1735969020998,
     "user": {
      "displayName": "Sarvesh Mhadgut",
      "userId": "11273560109942760670"
     },
     "user_tz": -330
    },
    "id": "c594c911-9c03-426f-ad24-2ea59a5cb228",
    "outputId": "19fe3cb8-3a5d-40e8-af37-43a659e11782"
   },
   "outputs": [],
   "source": [
    "yhat_prob = LR.predict_proba(X_test)\n",
    "yhat_prob"
   ]
  },
  {
   "cell_type": "code",
   "execution_count": null,
   "metadata": {
    "colab": {
     "base_uri": "https://localhost:8080/"
    },
    "executionInfo": {
     "elapsed": 390,
     "status": "ok",
     "timestamp": 1735969030638,
     "user": {
      "displayName": "Sarvesh Mhadgut",
      "userId": "11273560109942760670"
     },
     "user_tz": -330
    },
    "id": "226f5b26-e385-4f12-8938-a16432b92ed0",
    "outputId": "8c8a7e56-b478-4ac9-b07f-aadf160479b3"
   },
   "outputs": [],
   "source": [
    "from sklearn.metrics import jaccard_score\n",
    "\n",
    "jaccard_score(y_test, yhat, pos_label=0)"
   ]
  },
  {
   "cell_type": "code",
   "execution_count": null,
   "metadata": {
    "colab": {
     "base_uri": "https://localhost:8080/"
    },
    "executionInfo": {
     "elapsed": 377,
     "status": "ok",
     "timestamp": 1735969035121,
     "user": {
      "displayName": "Sarvesh Mhadgut",
      "userId": "11273560109942760670"
     },
     "user_tz": -330
    },
    "id": "eb691289-16ae-4004-acbe-6194a3a05c7b",
    "outputId": "84285599-9c45-4191-8976-f1ed7b4b7ec1"
   },
   "outputs": [],
   "source": [
    "from sklearn.metrics import classification_report, confusion_matrix\n",
    "import itertools\n",
    "\n",
    "\n",
    "def plot_confusion_matrix(\n",
    "    cm, classes, normalize=False, title=\"Confusion matrix\", cmap=plt.cm.Blues\n",
    "):\n",
    "    if normalize:\n",
    "        cm = cm.astype(\"float\") / cm.sum(axis=1)[:, np.newaxis]\n",
    "        print(\"Normalized confusion matrix\")\n",
    "    else:\n",
    "        print(\"Confusion matrix, without normalization\")\n",
    "\n",
    "    print(cm)\n",
    "\n",
    "    plt.imshow(cm, interpolation=\"nearest\", cmap=cmap)\n",
    "    plt.title(title)\n",
    "    plt.colorbar()\n",
    "    tick_marks = np.arange(len(classes))\n",
    "    plt.xticks(tick_marks, classes, rotation=45)\n",
    "    plt.yticks(tick_marks, classes)\n",
    "\n",
    "    fmt = \".2f\" if normalize else \"d\"\n",
    "    thresh = cm.max() / 2.0\n",
    "    for i, j in itertools.product(range(cm.shape[0]), range(cm.shape[1])):\n",
    "        plt.text(\n",
    "            j,\n",
    "            i,\n",
    "            format(cm[i, j], fmt),\n",
    "            horizontalalignment=\"center\",\n",
    "            color=\"white\" if cm[i, j] > thresh else \"black\",\n",
    "        )\n",
    "\n",
    "    plt.tight_layout()\n",
    "    plt.ylabel(\"True label\")\n",
    "    plt.xlabel(\"Predicted label\")\n",
    "\n",
    "\n",
    "print(confusion_matrix(y_test, yhat, labels=[1, 0]))"
   ]
  },
  {
   "cell_type": "code",
   "execution_count": null,
   "metadata": {
    "colab": {
     "base_uri": "https://localhost:8080/",
     "height": 560
    },
    "executionInfo": {
     "elapsed": 1415,
     "status": "ok",
     "timestamp": 1735969062957,
     "user": {
      "displayName": "Sarvesh Mhadgut",
      "userId": "11273560109942760670"
     },
     "user_tz": -330
    },
    "id": "a6a34e0a-e643-488d-ab8b-a92f15decd53",
    "outputId": "f6013531-a1a1-4566-a421-54c178a90d8a"
   },
   "outputs": [],
   "source": [
    "cnf_matrix = confusion_matrix(y_test, yhat, labels=[1, 0])\n",
    "np.set_printoptions(precision=2)\n",
    "\n",
    "\n",
    "plt.figure()\n",
    "plot_confusion_matrix(\n",
    "    cnf_matrix,\n",
    "    classes=[\"churn=1\", \"churn=0\"],\n",
    "    normalize=False,\n",
    "    title=\"Confusion matrix\",\n",
    ")"
   ]
  },
  {
   "cell_type": "code",
   "execution_count": null,
   "metadata": {
    "colab": {
     "base_uri": "https://localhost:8080/"
    },
    "executionInfo": {
     "elapsed": 414,
     "status": "ok",
     "timestamp": 1735969074003,
     "user": {
      "displayName": "Sarvesh Mhadgut",
      "userId": "11273560109942760670"
     },
     "user_tz": -330
    },
    "id": "d84af447-ea5f-4bcc-a216-c20408b6e8c7",
    "outputId": "89d44aa4-267b-4bee-9e4e-20bc0d196b8d"
   },
   "outputs": [],
   "source": [
    "print(classification_report(y_test, yhat))"
   ]
  },
  {
   "cell_type": "code",
   "execution_count": null,
   "metadata": {
    "colab": {
     "base_uri": "https://localhost:8080/"
    },
    "executionInfo": {
     "elapsed": 381,
     "status": "ok",
     "timestamp": 1735969082974,
     "user": {
      "displayName": "Sarvesh Mhadgut",
      "userId": "11273560109942760670"
     },
     "user_tz": -330
    },
    "id": "bf76da94-5e00-4759-9293-c3223384910b",
    "outputId": "00c31db6-9761-4edf-9ead-49997b43af09"
   },
   "outputs": [],
   "source": [
    "from sklearn.metrics import log_loss\n",
    "\n",
    "log_loss(y_test, yhat_prob)"
   ]
  },
  {
   "cell_type": "code",
   "execution_count": null,
   "metadata": {
    "colab": {
     "base_uri": "https://localhost:8080/"
    },
    "executionInfo": {
     "elapsed": 24,
     "status": "ok",
     "timestamp": 1735969231860,
     "user": {
      "displayName": "Sarvesh Mhadgut",
      "userId": "11273560109942760670"
     },
     "user_tz": -330
    },
    "id": "44e70656-d476-49c4-a0e9-24bc02946aa7",
    "outputId": "0aed96ab-69f0-4fa5-8a0e-c5b13bd142a2"
   },
   "outputs": [],
   "source": [
    "LR2 = LogisticRegression(C=0.01, solver=\"sag\").fit(X_train, y_train)\n",
    "yhat_prob2 = LR2.predict_proba(X_test)\n",
    "print(\"LogLoss: \", log_loss(y_test, yhat_prob2))"
   ]
  }
 ],
 "metadata": {
  "colab": {
   "provenance": []
  },
  "kernelspec": {
   "display_name": ".venv",
   "language": "python",
   "name": "python3"
  },
  "language_info": {
   "codemirror_mode": {
    "name": "ipython",
    "version": 3
   },
   "file_extension": ".py",
   "mimetype": "text/x-python",
   "name": "python",
   "nbconvert_exporter": "python",
   "pygments_lexer": "ipython3",
   "version": "3.13.2"
  },
  "prev_pub_hash": "93c3096a9aa003ffd3856deed45478e9e7e2e1d7091dd85d842ce88e28b0a595"
 },
 "nbformat": 4,
 "nbformat_minor": 0
}
